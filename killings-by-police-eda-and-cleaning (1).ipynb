{
 "cells": [
  {
   "cell_type": "markdown",
   "id": "1fc165f3",
   "metadata": {
    "papermill": {
     "duration": 0.037794,
     "end_time": "2024-05-30T18:17:14.125521",
     "exception": false,
     "start_time": "2024-05-30T18:17:14.087727",
     "status": "completed"
    },
    "tags": []
   },
   "source": [
    "## So this is a massive dataset containing records for over 13000 people who have been killed by police since 2013\n",
    "\n",
    "## Lets get to work cleaning up our variables, getting everything ready for analysis, and seeing what we can find to help us better understand this data \n",
    "\n",
    "## We will try to learn as much as we can by performing some simple analysis, and occasionally go deeper and construct some statistical models to better understand anything that catches our eye  \n",
    "\n",
    "## Have you ever wondered about the circumstances behind police killings in the US or ever questioned that what the media telling you about this killings is accurate and free of bias?\n",
    "\n",
    "## Lets find out"
   ]
  },
  {
   "cell_type": "code",
   "execution_count": 1,
   "id": "731d53f9",
   "metadata": {
    "execution": {
     "iopub.execute_input": "2024-05-30T18:17:14.199284Z",
     "iopub.status.busy": "2024-05-30T18:17:14.198487Z",
     "iopub.status.idle": "2024-05-30T18:17:18.641489Z",
     "shell.execute_reply": "2024-05-30T18:17:18.640080Z"
    },
    "papermill": {
     "duration": 4.482661,
     "end_time": "2024-05-30T18:17:18.644248",
     "exception": false,
     "start_time": "2024-05-30T18:17:14.161587",
     "status": "completed"
    },
    "tags": []
   },
   "outputs": [],
   "source": [
    "#import packages \n",
    "import numpy as np\n",
    "import pandas as pd\n",
    "import math\n",
    "import io\n",
    "import seaborn as sns\n",
    "import matplotlib.pyplot as plt\n",
    "import plotly as pt\n",
    "import os\n",
    "import re\n",
    "import statsmodels.api as sm"
   ]
  },
  {
   "cell_type": "code",
   "execution_count": 2,
   "id": "2530f7ff",
   "metadata": {
    "execution": {
     "iopub.execute_input": "2024-05-30T18:17:18.719064Z",
     "iopub.status.busy": "2024-05-30T18:17:18.718405Z",
     "iopub.status.idle": "2024-05-30T18:17:18.723785Z",
     "shell.execute_reply": "2024-05-30T18:17:18.722947Z"
    },
    "papermill": {
     "duration": 0.045497,
     "end_time": "2024-05-30T18:17:18.726138",
     "exception": false,
     "start_time": "2024-05-30T18:17:18.680641",
     "status": "completed"
    },
    "tags": []
   },
   "outputs": [],
   "source": [
    "#set default plot format \n",
    "plt.style.use('ggplot')"
   ]
  },
  {
   "cell_type": "code",
   "execution_count": 3,
   "id": "0dc0f158",
   "metadata": {
    "execution": {
     "iopub.execute_input": "2024-05-30T18:17:18.802461Z",
     "iopub.status.busy": "2024-05-30T18:17:18.802057Z",
     "iopub.status.idle": "2024-05-30T18:17:36.502399Z",
     "shell.execute_reply": "2024-05-30T18:17:36.501187Z"
    },
    "papermill": {
     "duration": 17.741778,
     "end_time": "2024-05-30T18:17:36.505356",
     "exception": false,
     "start_time": "2024-05-30T18:17:18.763578",
     "status": "completed"
    },
    "tags": []
   },
   "outputs": [],
   "source": [
    "df = pd.read_excel('/kaggle/input/dataset-on-us-police-killings-2013-2024/MPVDatasetDownload.xlsx')"
   ]
  },
  {
   "cell_type": "code",
   "execution_count": 4,
   "id": "bc809239",
   "metadata": {
    "execution": {
     "iopub.execute_input": "2024-05-30T18:17:36.579702Z",
     "iopub.status.busy": "2024-05-30T18:17:36.579150Z",
     "iopub.status.idle": "2024-05-30T18:17:36.628772Z",
     "shell.execute_reply": "2024-05-30T18:17:36.627338Z"
    },
    "papermill": {
     "duration": 0.089936,
     "end_time": "2024-05-30T18:17:36.631483",
     "exception": false,
     "start_time": "2024-05-30T18:17:36.541547",
     "status": "completed"
    },
    "tags": []
   },
   "outputs": [
    {
     "data": {
      "text/html": [
       "<div>\n",
       "<style scoped>\n",
       "    .dataframe tbody tr th:only-of-type {\n",
       "        vertical-align: middle;\n",
       "    }\n",
       "\n",
       "    .dataframe tbody tr th {\n",
       "        vertical-align: top;\n",
       "    }\n",
       "\n",
       "    .dataframe thead th {\n",
       "        text-align: right;\n",
       "    }\n",
       "</style>\n",
       "<table border=\"1\" class=\"dataframe\">\n",
       "  <thead>\n",
       "    <tr style=\"text-align: right;\">\n",
       "      <th></th>\n",
       "      <th>Victim's name</th>\n",
       "      <th>Victim's age</th>\n",
       "      <th>Victim's gender</th>\n",
       "      <th>Victim's race</th>\n",
       "      <th>URL of image of victim</th>\n",
       "      <th>Date of Incident (month/day/year)</th>\n",
       "      <th>Street Address of Incident</th>\n",
       "      <th>City</th>\n",
       "      <th>State</th>\n",
       "      <th>Zipcode</th>\n",
       "      <th>...</th>\n",
       "      <th>Officer Prosecuted by (Chief Prosecutor)</th>\n",
       "      <th>Prosecutor Race</th>\n",
       "      <th>Prosecutor Gender</th>\n",
       "      <th>Chief Prosecutor Political Party</th>\n",
       "      <th>Chief Prosecutor Term</th>\n",
       "      <th>Officer Prosecuted by (Prosecutor in Court)</th>\n",
       "      <th>Special Prosecutor?</th>\n",
       "      <th>Independent Investigation?</th>\n",
       "      <th>Prosecutor Source Link</th>\n",
       "      <th>Killed by Police 2013-24</th>\n",
       "    </tr>\n",
       "  </thead>\n",
       "  <tbody>\n",
       "    <tr>\n",
       "      <th>0</th>\n",
       "      <td>Name withheld by police</td>\n",
       "      <td>Unknown</td>\n",
       "      <td>Male</td>\n",
       "      <td>Unknown race</td>\n",
       "      <td>NaN</td>\n",
       "      <td>2024-05-10</td>\n",
       "      <td>3400 Sixth St</td>\n",
       "      <td>Ceres</td>\n",
       "      <td>CA</td>\n",
       "      <td>NaN</td>\n",
       "      <td>...</td>\n",
       "      <td>NaN</td>\n",
       "      <td>NaN</td>\n",
       "      <td>NaN</td>\n",
       "      <td>NaN</td>\n",
       "      <td>NaN</td>\n",
       "      <td>NaN</td>\n",
       "      <td>NaN</td>\n",
       "      <td>NaN</td>\n",
       "      <td>NaN</td>\n",
       "      <td>1</td>\n",
       "    </tr>\n",
       "    <tr>\n",
       "      <th>1</th>\n",
       "      <td>Nicholas Pierce</td>\n",
       "      <td>43</td>\n",
       "      <td>Male</td>\n",
       "      <td>Unknown race</td>\n",
       "      <td>NaN</td>\n",
       "      <td>2024-05-10</td>\n",
       "      <td>4700 Crawford Ave</td>\n",
       "      <td>Louisville</td>\n",
       "      <td>KY</td>\n",
       "      <td>NaN</td>\n",
       "      <td>...</td>\n",
       "      <td>NaN</td>\n",
       "      <td>NaN</td>\n",
       "      <td>NaN</td>\n",
       "      <td>NaN</td>\n",
       "      <td>NaN</td>\n",
       "      <td>NaN</td>\n",
       "      <td>NaN</td>\n",
       "      <td>NaN</td>\n",
       "      <td>NaN</td>\n",
       "      <td>1</td>\n",
       "    </tr>\n",
       "    <tr>\n",
       "      <th>2</th>\n",
       "      <td>Name withheld by police</td>\n",
       "      <td>Unknown</td>\n",
       "      <td>Male</td>\n",
       "      <td>Unknown race</td>\n",
       "      <td>NaN</td>\n",
       "      <td>2024-05-10</td>\n",
       "      <td>Market St and S 14th St</td>\n",
       "      <td>St. Louis</td>\n",
       "      <td>MO</td>\n",
       "      <td>NaN</td>\n",
       "      <td>...</td>\n",
       "      <td>NaN</td>\n",
       "      <td>NaN</td>\n",
       "      <td>NaN</td>\n",
       "      <td>NaN</td>\n",
       "      <td>NaN</td>\n",
       "      <td>NaN</td>\n",
       "      <td>NaN</td>\n",
       "      <td>NaN</td>\n",
       "      <td>NaN</td>\n",
       "      <td>1</td>\n",
       "    </tr>\n",
       "    <tr>\n",
       "      <th>3</th>\n",
       "      <td>Freeman Sherman, Jr.</td>\n",
       "      <td>39</td>\n",
       "      <td>Male</td>\n",
       "      <td>Black</td>\n",
       "      <td>NaN</td>\n",
       "      <td>2024-05-10</td>\n",
       "      <td>3000 Dumbarton Rd</td>\n",
       "      <td>Memphis</td>\n",
       "      <td>TN</td>\n",
       "      <td>NaN</td>\n",
       "      <td>...</td>\n",
       "      <td>NaN</td>\n",
       "      <td>NaN</td>\n",
       "      <td>NaN</td>\n",
       "      <td>NaN</td>\n",
       "      <td>NaN</td>\n",
       "      <td>NaN</td>\n",
       "      <td>NaN</td>\n",
       "      <td>NaN</td>\n",
       "      <td>NaN</td>\n",
       "      <td>1</td>\n",
       "    </tr>\n",
       "    <tr>\n",
       "      <th>4</th>\n",
       "      <td>Name withheld by police</td>\n",
       "      <td>16</td>\n",
       "      <td>Male</td>\n",
       "      <td>Unknown race</td>\n",
       "      <td>NaN</td>\n",
       "      <td>2024-05-10</td>\n",
       "      <td>I-35 and S 7th St</td>\n",
       "      <td>Kansas City</td>\n",
       "      <td>KS</td>\n",
       "      <td>NaN</td>\n",
       "      <td>...</td>\n",
       "      <td>NaN</td>\n",
       "      <td>NaN</td>\n",
       "      <td>NaN</td>\n",
       "      <td>NaN</td>\n",
       "      <td>NaN</td>\n",
       "      <td>NaN</td>\n",
       "      <td>NaN</td>\n",
       "      <td>NaN</td>\n",
       "      <td>NaN</td>\n",
       "      <td>1</td>\n",
       "    </tr>\n",
       "  </tbody>\n",
       "</table>\n",
       "<p>5 rows × 64 columns</p>\n",
       "</div>"
      ],
      "text/plain": [
       "             Victim's name Victim's age Victim's gender Victim's race  \\\n",
       "0  Name withheld by police      Unknown            Male  Unknown race   \n",
       "1          Nicholas Pierce           43            Male  Unknown race   \n",
       "2  Name withheld by police      Unknown            Male  Unknown race   \n",
       "3     Freeman Sherman, Jr.           39            Male         Black   \n",
       "4  Name withheld by police           16            Male  Unknown race   \n",
       "\n",
       "  URL of image of victim Date of Incident (month/day/year)  \\\n",
       "0                    NaN                        2024-05-10   \n",
       "1                    NaN                        2024-05-10   \n",
       "2                    NaN                        2024-05-10   \n",
       "3                    NaN                        2024-05-10   \n",
       "4                    NaN                        2024-05-10   \n",
       "\n",
       "  Street Address of Incident         City State  Zipcode  ...  \\\n",
       "0              3400 Sixth St        Ceres    CA      NaN  ...   \n",
       "1          4700 Crawford Ave   Louisville    KY      NaN  ...   \n",
       "2    Market St and S 14th St    St. Louis    MO      NaN  ...   \n",
       "3          3000 Dumbarton Rd      Memphis    TN      NaN  ...   \n",
       "4          I-35 and S 7th St  Kansas City    KS      NaN  ...   \n",
       "\n",
       "  Officer Prosecuted by (Chief Prosecutor) Prosecutor Race Prosecutor Gender  \\\n",
       "0                                      NaN             NaN               NaN   \n",
       "1                                      NaN             NaN               NaN   \n",
       "2                                      NaN             NaN               NaN   \n",
       "3                                      NaN             NaN               NaN   \n",
       "4                                      NaN             NaN               NaN   \n",
       "\n",
       "  Chief Prosecutor Political Party Chief Prosecutor Term  \\\n",
       "0                              NaN                   NaN   \n",
       "1                              NaN                   NaN   \n",
       "2                              NaN                   NaN   \n",
       "3                              NaN                   NaN   \n",
       "4                              NaN                   NaN   \n",
       "\n",
       "  Officer Prosecuted by (Prosecutor in Court) Special Prosecutor?  \\\n",
       "0                                         NaN                 NaN   \n",
       "1                                         NaN                 NaN   \n",
       "2                                         NaN                 NaN   \n",
       "3                                         NaN                 NaN   \n",
       "4                                         NaN                 NaN   \n",
       "\n",
       "  Independent Investigation? Prosecutor Source Link Killed by Police 2013-24  \n",
       "0                        NaN                    NaN                        1  \n",
       "1                        NaN                    NaN                        1  \n",
       "2                        NaN                    NaN                        1  \n",
       "3                        NaN                    NaN                        1  \n",
       "4                        NaN                    NaN                        1  \n",
       "\n",
       "[5 rows x 64 columns]"
      ]
     },
     "execution_count": 4,
     "metadata": {},
     "output_type": "execute_result"
    }
   ],
   "source": [
    "df.head()"
   ]
  },
  {
   "cell_type": "code",
   "execution_count": 5,
   "id": "aad5be38",
   "metadata": {
    "execution": {
     "iopub.execute_input": "2024-05-30T18:17:36.707965Z",
     "iopub.status.busy": "2024-05-30T18:17:36.707538Z",
     "iopub.status.idle": "2024-05-30T18:17:36.714001Z",
     "shell.execute_reply": "2024-05-30T18:17:36.713112Z"
    },
    "papermill": {
     "duration": 0.047331,
     "end_time": "2024-05-30T18:17:36.716201",
     "exception": false,
     "start_time": "2024-05-30T18:17:36.668870",
     "status": "completed"
    },
    "tags": []
   },
   "outputs": [
    {
     "data": {
      "text/plain": [
       "(12798, 64)"
      ]
     },
     "execution_count": 5,
     "metadata": {},
     "output_type": "execute_result"
    }
   ],
   "source": [
    "df.shape"
   ]
  },
  {
   "cell_type": "code",
   "execution_count": 6,
   "id": "8eb9f979",
   "metadata": {
    "execution": {
     "iopub.execute_input": "2024-05-30T18:17:36.793337Z",
     "iopub.status.busy": "2024-05-30T18:17:36.792574Z",
     "iopub.status.idle": "2024-05-30T18:17:36.799352Z",
     "shell.execute_reply": "2024-05-30T18:17:36.797857Z"
    },
    "papermill": {
     "duration": 0.049137,
     "end_time": "2024-05-30T18:17:36.802387",
     "exception": false,
     "start_time": "2024-05-30T18:17:36.753250",
     "status": "completed"
    },
    "tags": []
   },
   "outputs": [],
   "source": [
    "#remove all special characters in the column names \n",
    "#normally would use janitor but I cant get it to work here on kaggle\n",
    "df.columns = [re.sub(r'[^\\w\\s]', '', col) for col in df.columns]"
   ]
  },
  {
   "cell_type": "code",
   "execution_count": 7,
   "id": "57f55bed",
   "metadata": {
    "execution": {
     "iopub.execute_input": "2024-05-30T18:17:36.883439Z",
     "iopub.status.busy": "2024-05-30T18:17:36.882976Z",
     "iopub.status.idle": "2024-05-30T18:17:36.889821Z",
     "shell.execute_reply": "2024-05-30T18:17:36.888262Z"
    },
    "papermill": {
     "duration": 0.049804,
     "end_time": "2024-05-30T18:17:36.892437",
     "exception": false,
     "start_time": "2024-05-30T18:17:36.842633",
     "status": "completed"
    },
    "tags": []
   },
   "outputs": [],
   "source": [
    "#remove all spaces in the columns and replace with _\n",
    "#these spaces will cause major headaches, so best to remove them early \n",
    "df.columns = [re.sub(r'[^\\w\\s]', '', col).replace(' ', '_') for col in df.columns]"
   ]
  },
  {
   "cell_type": "code",
   "execution_count": 8,
   "id": "0449f6ce",
   "metadata": {
    "execution": {
     "iopub.execute_input": "2024-05-30T18:17:37.034192Z",
     "iopub.status.busy": "2024-05-30T18:17:37.033077Z",
     "iopub.status.idle": "2024-05-30T18:17:37.039145Z",
     "shell.execute_reply": "2024-05-30T18:17:37.037999Z"
    },
    "papermill": {
     "duration": 0.112462,
     "end_time": "2024-05-30T18:17:37.041728",
     "exception": false,
     "start_time": "2024-05-30T18:17:36.929266",
     "status": "completed"
    },
    "tags": []
   },
   "outputs": [],
   "source": [
    "# clean up the columns to remove uppercase letters\n",
    "df.columns = [col.lower() for col in df.columns]"
   ]
  },
  {
   "cell_type": "code",
   "execution_count": 9,
   "id": "f593c93b",
   "metadata": {
    "execution": {
     "iopub.execute_input": "2024-05-30T18:17:37.118793Z",
     "iopub.status.busy": "2024-05-30T18:17:37.118378Z",
     "iopub.status.idle": "2024-05-30T18:17:37.126183Z",
     "shell.execute_reply": "2024-05-30T18:17:37.124979Z"
    },
    "papermill": {
     "duration": 0.048216,
     "end_time": "2024-05-30T18:17:37.128521",
     "exception": false,
     "start_time": "2024-05-30T18:17:37.080305",
     "status": "completed"
    },
    "tags": []
   },
   "outputs": [
    {
     "data": {
      "text/plain": [
       "Index(['victims_name', 'victims_age', 'victims_gender', 'victims_race',\n",
       "       'url_of_image_of_victim', 'date_of_incident_monthdayyear',\n",
       "       'street_address_of_incident', 'city', 'state', 'zipcode', 'county',\n",
       "       'agency_responsible_for_death', 'ori_agency_identifier_if_available',\n",
       "       'cause_of_death',\n",
       "       'media_description_of_the_circumstances_surrounding_the_death',\n",
       "       'official_disposition_of_death_justified_or_other', 'criminal_charges',\n",
       "       'link_to_news_article_or_photo_of_official_document',\n",
       "       'symptoms_of_mental_illness', 'armedunarmed_status',\n",
       "       'alleged_weapon_source_wapo_and_review_of_cases_not_included_in_wapo_database',\n",
       "       'alleged_threat_level_source_wapo_and_review_of_cases_not_included_in_wapo_database',\n",
       "       'threat_level_description',\n",
       "       'fleeing_source_wapo_and_review_of_cases_not_included_in_wapo_database',\n",
       "       'body_camera_source_wapo', 'wapo_id_if_included_in_wapo_database',\n",
       "       'offduty_killing',\n",
       "       'geography_via_trulia_methodology_based_on_zipcode_population_density_httpjedkolkocomwpcontentuploads201505fullzctaurbansuburbanruralclassificationxlsx_',\n",
       "       'mpv_id', 'fatal_encounters_id', 'encounter_type',\n",
       "       'initial_reported_reason_for_encounter', 'names_of_officers_involved',\n",
       "       'race_of_officers_involved', 'known_past_shootings_of_officers',\n",
       "       'call_for_service', 'census_tract_code', 'hud_upsai_geography',\n",
       "       'nchs_urbanrural_classification_scheme_codes_httpswwwcdcgovnchsdata_accessurban_ruralhtm',\n",
       "       'median_household_income_acs_census_tract', 'latitude', 'longitude',\n",
       "       'total_population_of_census_tract_2019_acs_5year_estimates',\n",
       "       'white_nonhispanic_percent_of_the_population_acs',\n",
       "       'black_nonhispanic_percent_of_the_population_acs',\n",
       "       'native_american_percent_of_the_population_acs',\n",
       "       'asian_percent_of_the_population_acs',\n",
       "       'pacific_islander_percent_of_the_population_acs',\n",
       "       'othertwo_or_more_race_percent_of_the_population_acs',\n",
       "       'hispanic_percent_of_the_population_acs', 'congressional_district',\n",
       "       'congressional_representative_full_name_httpsballotpediaorgunited_states_house_of_representatives',\n",
       "       'unnamed_52',\n",
       "       'congressional_representative_party_httpsballotpediaorgunited_states_house_of_representatives',\n",
       "       'officer_prosecuted_by_chief_prosecutor', 'prosecutor_race',\n",
       "       'prosecutor_gender', 'chief_prosecutor_political_party',\n",
       "       'chief_prosecutor_term', 'officer_prosecuted_by_prosecutor_in_court',\n",
       "       'special_prosecutor', 'independent_investigation',\n",
       "       'prosecutor_source_link', 'killed_by_police_201324'],\n",
       "      dtype='object')"
      ]
     },
     "execution_count": 9,
     "metadata": {},
     "output_type": "execute_result"
    }
   ],
   "source": [
    "df.columns"
   ]
  },
  {
   "cell_type": "code",
   "execution_count": 10,
   "id": "e4eab4fd",
   "metadata": {
    "execution": {
     "iopub.execute_input": "2024-05-30T18:17:37.207702Z",
     "iopub.status.busy": "2024-05-30T18:17:37.206926Z",
     "iopub.status.idle": "2024-05-30T18:17:37.213640Z",
     "shell.execute_reply": "2024-05-30T18:17:37.212268Z"
    },
    "papermill": {
     "duration": 0.049496,
     "end_time": "2024-05-30T18:17:37.216297",
     "exception": false,
     "start_time": "2024-05-30T18:17:37.166801",
     "status": "completed"
    },
    "tags": []
   },
   "outputs": [],
   "source": [
    "#rename any columns with wierd names we need \n",
    "df.rename(columns = {'fleeing_source_wapo_and_review_of_cases_not_included_in_wapo_database' : 'fleeing', \n",
    "                     'alleged_weapon_source_wapo_and_review_of_cases_not_included_in_wapo_database' : 'weapon'}, inplace = True)"
   ]
  },
  {
   "cell_type": "markdown",
   "id": "2cfa5bb2",
   "metadata": {
    "papermill": {
     "duration": 0.038487,
     "end_time": "2024-05-30T18:17:37.292243",
     "exception": false,
     "start_time": "2024-05-30T18:17:37.253756",
     "status": "completed"
    },
    "tags": []
   },
   "source": [
    "## -----------------------------------------------------------------\n",
    "# DEMOGRAPHICS\n",
    "\n",
    "## -----------------------------------------------------------------"
   ]
  },
  {
   "cell_type": "code",
   "execution_count": 11,
   "id": "1477ba42",
   "metadata": {
    "execution": {
     "iopub.execute_input": "2024-05-30T18:17:37.369426Z",
     "iopub.status.busy": "2024-05-30T18:17:37.368580Z",
     "iopub.status.idle": "2024-05-30T18:17:37.384399Z",
     "shell.execute_reply": "2024-05-30T18:17:37.382686Z"
    },
    "papermill": {
     "duration": 0.058087,
     "end_time": "2024-05-30T18:17:37.387547",
     "exception": false,
     "start_time": "2024-05-30T18:17:37.329460",
     "status": "completed"
    },
    "tags": []
   },
   "outputs": [
    {
     "data": {
      "text/plain": [
       "victims_gender\n",
       "Male      12114\n",
       "Female      634\n",
       "Name: count, dtype: int64"
      ]
     },
     "execution_count": 11,
     "metadata": {},
     "output_type": "execute_result"
    }
   ],
   "source": [
    "#what is the gender breakdown of this data? Were men more likely to be killed than women?\n",
    "df['victims_gender'].value_counts().head(2)"
   ]
  },
  {
   "cell_type": "code",
   "execution_count": 12,
   "id": "0929dabe",
   "metadata": {
    "execution": {
     "iopub.execute_input": "2024-05-30T18:17:37.465462Z",
     "iopub.status.busy": "2024-05-30T18:17:37.465025Z",
     "iopub.status.idle": "2024-05-30T18:17:37.471438Z",
     "shell.execute_reply": "2024-05-30T18:17:37.470446Z"
    },
    "papermill": {
     "duration": 0.049108,
     "end_time": "2024-05-30T18:17:37.473929",
     "exception": false,
     "start_time": "2024-05-30T18:17:37.424821",
     "status": "completed"
    },
    "tags": []
   },
   "outputs": [
    {
     "data": {
      "text/plain": [
       "19.107255520504733"
      ]
     },
     "execution_count": 12,
     "metadata": {},
     "output_type": "execute_result"
    }
   ],
   "source": [
    "12114 / 634"
   ]
  },
  {
   "cell_type": "markdown",
   "id": "713a72da",
   "metadata": {
    "papermill": {
     "duration": 0.037505,
     "end_time": "2024-05-30T18:17:37.549105",
     "exception": false,
     "start_time": "2024-05-30T18:17:37.511600",
     "status": "completed"
    },
    "tags": []
   },
   "source": [
    "## Men represent 19 times the amount of deaths than women "
   ]
  },
  {
   "cell_type": "code",
   "execution_count": 13,
   "id": "d5510310",
   "metadata": {
    "execution": {
     "iopub.execute_input": "2024-05-30T18:17:37.628087Z",
     "iopub.status.busy": "2024-05-30T18:17:37.626837Z",
     "iopub.status.idle": "2024-05-30T18:17:37.935947Z",
     "shell.execute_reply": "2024-05-30T18:17:37.934999Z"
    },
    "papermill": {
     "duration": 0.351348,
     "end_time": "2024-05-30T18:17:37.938208",
     "exception": false,
     "start_time": "2024-05-30T18:17:37.586860",
     "status": "completed"
    },
    "tags": []
   },
   "outputs": [
    {
     "data": {
      "text/plain": [
       "<Axes: xlabel='victims_gender'>"
      ]
     },
     "execution_count": 13,
     "metadata": {},
     "output_type": "execute_result"
    },
    {
     "data": {
      "image/png": "[encoded data removed]",
      "text/plain": [
       "<Figure size 640x480 with 1 Axes>"
      ]
     },
     "metadata": {},
     "output_type": "display_data"
    }
   ],
   "source": [
    "df['victims_gender'].value_counts().head(2).plot(kind = 'bar')"
   ]
  },
  {
   "cell_type": "markdown",
   "id": "3ef9b4f5",
   "metadata": {
    "papermill": {
     "duration": 0.037501,
     "end_time": "2024-05-30T18:17:38.013339",
     "exception": false,
     "start_time": "2024-05-30T18:17:37.975838",
     "status": "completed"
    },
    "tags": []
   },
   "source": [
    "## -----------------------------------------------------------------\n",
    "\n",
    "## -----------------------------------------------------------------"
   ]
  },
  {
   "cell_type": "code",
   "execution_count": 14,
   "id": "5ef153c2",
   "metadata": {
    "execution": {
     "iopub.execute_input": "2024-05-30T18:17:38.092597Z",
     "iopub.status.busy": "2024-05-30T18:17:38.091686Z",
     "iopub.status.idle": "2024-05-30T18:17:38.100860Z",
     "shell.execute_reply": "2024-05-30T18:17:38.099966Z"
    },
    "papermill": {
     "duration": 0.052542,
     "end_time": "2024-05-30T18:17:38.103250",
     "exception": false,
     "start_time": "2024-05-30T18:17:38.050708",
     "status": "completed"
    },
    "tags": []
   },
   "outputs": [],
   "source": [
    "#lets fix the age column as well and see the distribution of these victims\n",
    "df[\"victims_age\"] = np.where(df[\"victims_age\"] == \"Unknown\", np.nan, df[\"victims_age\"])"
   ]
  },
  {
   "cell_type": "code",
   "execution_count": 15,
   "id": "2a90b804",
   "metadata": {
    "execution": {
     "iopub.execute_input": "2024-05-30T18:17:38.181380Z",
     "iopub.status.busy": "2024-05-30T18:17:38.180575Z",
     "iopub.status.idle": "2024-05-30T18:17:38.197226Z",
     "shell.execute_reply": "2024-05-30T18:17:38.196313Z"
    },
    "papermill": {
     "duration": 0.058412,
     "end_time": "2024-05-30T18:17:38.199497",
     "exception": false,
     "start_time": "2024-05-30T18:17:38.141085",
     "status": "completed"
    },
    "tags": []
   },
   "outputs": [
    {
     "data": {
      "text/plain": [
       "37.07962069811167"
      ]
     },
     "execution_count": 15,
     "metadata": {},
     "output_type": "execute_result"
    }
   ],
   "source": [
    "df[\"victims_age\"] = pd.to_numeric(df[\"victims_age\"], errors='coerce')\n",
    "df[\"victims_age\"].mean()"
   ]
  },
  {
   "cell_type": "code",
   "execution_count": 16,
   "id": "2e9ca3ad",
   "metadata": {
    "execution": {
     "iopub.execute_input": "2024-05-30T18:17:38.277372Z",
     "iopub.status.busy": "2024-05-30T18:17:38.276814Z",
     "iopub.status.idle": "2024-05-30T18:17:38.290269Z",
     "shell.execute_reply": "2024-05-30T18:17:38.289205Z"
    },
    "papermill": {
     "duration": 0.055734,
     "end_time": "2024-05-30T18:17:38.292948",
     "exception": false,
     "start_time": "2024-05-30T18:17:38.237214",
     "status": "completed"
    },
    "tags": []
   },
   "outputs": [
    {
     "data": {
      "text/plain": [
       "count    12233.000000\n",
       "mean        37.079621\n",
       "std         13.009858\n",
       "min          1.000000\n",
       "25%         27.000000\n",
       "50%         35.000000\n",
       "75%         45.000000\n",
       "max        107.000000\n",
       "Name: victims_age, dtype: float64"
      ]
     },
     "execution_count": 16,
     "metadata": {},
     "output_type": "execute_result"
    }
   ],
   "source": [
    "df[\"victims_age\"].describe()"
   ]
  },
  {
   "cell_type": "code",
   "execution_count": 17,
   "id": "5635c663",
   "metadata": {
    "execution": {
     "iopub.execute_input": "2024-05-30T18:17:38.372748Z",
     "iopub.status.busy": "2024-05-30T18:17:38.372280Z",
     "iopub.status.idle": "2024-05-30T18:17:38.419033Z",
     "shell.execute_reply": "2024-05-30T18:17:38.417690Z"
    },
    "papermill": {
     "duration": 0.089675,
     "end_time": "2024-05-30T18:17:38.421864",
     "exception": false,
     "start_time": "2024-05-30T18:17:38.332189",
     "status": "completed"
    },
    "tags": []
   },
   "outputs": [
    {
     "data": {
      "text/html": [
       "<div>\n",
       "<style scoped>\n",
       "    .dataframe tbody tr th:only-of-type {\n",
       "        vertical-align: middle;\n",
       "    }\n",
       "\n",
       "    .dataframe tbody tr th {\n",
       "        vertical-align: top;\n",
       "    }\n",
       "\n",
       "    .dataframe thead th {\n",
       "        text-align: right;\n",
       "    }\n",
       "</style>\n",
       "<table border=\"1\" class=\"dataframe\">\n",
       "  <thead>\n",
       "    <tr style=\"text-align: right;\">\n",
       "      <th></th>\n",
       "      <th>victims_name</th>\n",
       "      <th>victims_age</th>\n",
       "      <th>victims_gender</th>\n",
       "      <th>victims_race</th>\n",
       "      <th>url_of_image_of_victim</th>\n",
       "      <th>date_of_incident_monthdayyear</th>\n",
       "      <th>street_address_of_incident</th>\n",
       "      <th>city</th>\n",
       "      <th>state</th>\n",
       "      <th>zipcode</th>\n",
       "      <th>...</th>\n",
       "      <th>officer_prosecuted_by_chief_prosecutor</th>\n",
       "      <th>prosecutor_race</th>\n",
       "      <th>prosecutor_gender</th>\n",
       "      <th>chief_prosecutor_political_party</th>\n",
       "      <th>chief_prosecutor_term</th>\n",
       "      <th>officer_prosecuted_by_prosecutor_in_court</th>\n",
       "      <th>special_prosecutor</th>\n",
       "      <th>independent_investigation</th>\n",
       "      <th>prosecutor_source_link</th>\n",
       "      <th>killed_by_police_201324</th>\n",
       "    </tr>\n",
       "  </thead>\n",
       "  <tbody>\n",
       "    <tr>\n",
       "      <th>3647</th>\n",
       "      <td>La'Mello Parker</td>\n",
       "      <td>1.0</td>\n",
       "      <td>Male</td>\n",
       "      <td>Black</td>\n",
       "      <td>https://fatalencounters.org/wp-content/uploads...</td>\n",
       "      <td>2021-05-03</td>\n",
       "      <td>I-10</td>\n",
       "      <td>Biloxi</td>\n",
       "      <td>MS</td>\n",
       "      <td>39532.0</td>\n",
       "      <td>...</td>\n",
       "      <td>NaN</td>\n",
       "      <td>NaN</td>\n",
       "      <td>NaN</td>\n",
       "      <td>NaN</td>\n",
       "      <td>NaN</td>\n",
       "      <td>NaN</td>\n",
       "      <td>NaN</td>\n",
       "      <td>NaN</td>\n",
       "      <td>NaN</td>\n",
       "      <td>1</td>\n",
       "    </tr>\n",
       "    <tr>\n",
       "      <th>7086</th>\n",
       "      <td>Dominick Alexander Hernandez</td>\n",
       "      <td>1.0</td>\n",
       "      <td>Male</td>\n",
       "      <td>Hispanic</td>\n",
       "      <td>http://www.fatalencounters.org/wp-content/uplo...</td>\n",
       "      <td>2018-04-09</td>\n",
       "      <td>Zebu Ct</td>\n",
       "      <td>Laredo</td>\n",
       "      <td>TX</td>\n",
       "      <td>78045.0</td>\n",
       "      <td>...</td>\n",
       "      <td>Isidro Alaniz</td>\n",
       "      <td>Hispanic</td>\n",
       "      <td>Male</td>\n",
       "      <td>NaN</td>\n",
       "      <td>NaN</td>\n",
       "      <td>NaN</td>\n",
       "      <td>NaN</td>\n",
       "      <td>NaN</td>\n",
       "      <td>https://www.lmtonline.com/local/crime/article/...</td>\n",
       "      <td>1</td>\n",
       "    </tr>\n",
       "    <tr>\n",
       "      <th>9926</th>\n",
       "      <td>Gunner Wayne Page</td>\n",
       "      <td>1.0</td>\n",
       "      <td>Male</td>\n",
       "      <td>White</td>\n",
       "      <td>http://www.killedbypolice.net/victims/2753.jpg</td>\n",
       "      <td>2015-09-07</td>\n",
       "      <td>286 Howard Road</td>\n",
       "      <td>Puryear</td>\n",
       "      <td>TN</td>\n",
       "      <td>38251.0</td>\n",
       "      <td>...</td>\n",
       "      <td>Matthew Stowe</td>\n",
       "      <td>White</td>\n",
       "      <td>Male</td>\n",
       "      <td>NaN</td>\n",
       "      <td>NaN</td>\n",
       "      <td>NaN</td>\n",
       "      <td>no</td>\n",
       "      <td>NaN</td>\n",
       "      <td>NaN</td>\n",
       "      <td>1</td>\n",
       "    </tr>\n",
       "    <tr>\n",
       "      <th>12510</th>\n",
       "      <td>Dylan Samuel-Peters</td>\n",
       "      <td>1.0</td>\n",
       "      <td>Male</td>\n",
       "      <td>Black</td>\n",
       "      <td>NaN</td>\n",
       "      <td>2013-04-15</td>\n",
       "      <td>East 56th Street in the East Flatbush</td>\n",
       "      <td>New York</td>\n",
       "      <td>NY</td>\n",
       "      <td>11203.0</td>\n",
       "      <td>...</td>\n",
       "      <td>NaN</td>\n",
       "      <td>NaN</td>\n",
       "      <td>NaN</td>\n",
       "      <td>NaN</td>\n",
       "      <td>NaN</td>\n",
       "      <td>NaN</td>\n",
       "      <td>NaN</td>\n",
       "      <td>NaN</td>\n",
       "      <td>NaN</td>\n",
       "      <td>1</td>\n",
       "    </tr>\n",
       "  </tbody>\n",
       "</table>\n",
       "<p>4 rows × 64 columns</p>\n",
       "</div>"
      ],
      "text/plain": [
       "                       victims_name  victims_age victims_gender victims_race  \\\n",
       "3647                La'Mello Parker          1.0           Male        Black   \n",
       "7086   Dominick Alexander Hernandez          1.0           Male     Hispanic   \n",
       "9926              Gunner Wayne Page          1.0           Male        White   \n",
       "12510           Dylan Samuel-Peters          1.0           Male        Black   \n",
       "\n",
       "                                  url_of_image_of_victim  \\\n",
       "3647   https://fatalencounters.org/wp-content/uploads...   \n",
       "7086   http://www.fatalencounters.org/wp-content/uplo...   \n",
       "9926      http://www.killedbypolice.net/victims/2753.jpg   \n",
       "12510                                                NaN   \n",
       "\n",
       "      date_of_incident_monthdayyear             street_address_of_incident  \\\n",
       "3647                     2021-05-03                                   I-10   \n",
       "7086                     2018-04-09                                Zebu Ct   \n",
       "9926                     2015-09-07                        286 Howard Road   \n",
       "12510                    2013-04-15  East 56th Street in the East Flatbush   \n",
       "\n",
       "           city state  zipcode  ... officer_prosecuted_by_chief_prosecutor  \\\n",
       "3647     Biloxi    MS  39532.0  ...                                    NaN   \n",
       "7086     Laredo    TX  78045.0  ...                          Isidro Alaniz   \n",
       "9926    Puryear    TN  38251.0  ...                          Matthew Stowe   \n",
       "12510  New York    NY  11203.0  ...                                    NaN   \n",
       "\n",
       "      prosecutor_race prosecutor_gender chief_prosecutor_political_party  \\\n",
       "3647              NaN               NaN                              NaN   \n",
       "7086         Hispanic              Male                              NaN   \n",
       "9926            White              Male                              NaN   \n",
       "12510             NaN               NaN                              NaN   \n",
       "\n",
       "      chief_prosecutor_term officer_prosecuted_by_prosecutor_in_court  \\\n",
       "3647                    NaN                                       NaN   \n",
       "7086                    NaN                                       NaN   \n",
       "9926                    NaN                                       NaN   \n",
       "12510                   NaN                                       NaN   \n",
       "\n",
       "      special_prosecutor independent_investigation  \\\n",
       "3647                 NaN                       NaN   \n",
       "7086                 NaN                       NaN   \n",
       "9926                  no                       NaN   \n",
       "12510                NaN                       NaN   \n",
       "\n",
       "                                  prosecutor_source_link  \\\n",
       "3647                                                 NaN   \n",
       "7086   https://www.lmtonline.com/local/crime/article/...   \n",
       "9926                                                 NaN   \n",
       "12510                                                NaN   \n",
       "\n",
       "      killed_by_police_201324  \n",
       "3647                        1  \n",
       "7086                        1  \n",
       "9926                        1  \n",
       "12510                       1  \n",
       "\n",
       "[4 rows x 64 columns]"
      ]
     },
     "execution_count": 17,
     "metadata": {},
     "output_type": "execute_result"
    }
   ],
   "source": [
    "#a min age of 1 does not seem correct, lets replace that age with the mean of the dataset\n",
    "df.query('victims_age == 1')"
   ]
  },
  {
   "cell_type": "code",
   "execution_count": 18,
   "id": "d51d88ea",
   "metadata": {
    "execution": {
     "iopub.execute_input": "2024-05-30T18:17:38.504980Z",
     "iopub.status.busy": "2024-05-30T18:17:38.504084Z",
     "iopub.status.idle": "2024-05-30T18:17:38.511542Z",
     "shell.execute_reply": "2024-05-30T18:17:38.510566Z"
    },
    "papermill": {
     "duration": 0.051774,
     "end_time": "2024-05-30T18:17:38.514082",
     "exception": false,
     "start_time": "2024-05-30T18:17:38.462308",
     "status": "completed"
    },
    "tags": []
   },
   "outputs": [],
   "source": [
    "#but first we will calculate the mean without these records \n",
    "mean_age = df.loc[df['victims_age'] != 1, 'victims_age'].mean()"
   ]
  },
  {
   "cell_type": "code",
   "execution_count": 19,
   "id": "c61bf06e",
   "metadata": {
    "execution": {
     "iopub.execute_input": "2024-05-30T18:17:38.596682Z",
     "iopub.status.busy": "2024-05-30T18:17:38.595856Z",
     "iopub.status.idle": "2024-05-30T18:17:38.602124Z",
     "shell.execute_reply": "2024-05-30T18:17:38.601179Z"
    },
    "papermill": {
     "duration": 0.050106,
     "end_time": "2024-05-30T18:17:38.604864",
     "exception": false,
     "start_time": "2024-05-30T18:17:38.554758",
     "status": "completed"
    },
    "tags": []
   },
   "outputs": [],
   "source": [
    "#finally replace \n",
    "df.loc[df['victims_age'] == 1, 'victims_age'] = mean_age"
   ]
  },
  {
   "cell_type": "code",
   "execution_count": 20,
   "id": "d7634b18",
   "metadata": {
    "execution": {
     "iopub.execute_input": "2024-05-30T18:17:38.690300Z",
     "iopub.status.busy": "2024-05-30T18:17:38.689564Z",
     "iopub.status.idle": "2024-05-30T18:17:38.696707Z",
     "shell.execute_reply": "2024-05-30T18:17:38.695770Z"
    },
    "papermill": {
     "duration": 0.052927,
     "end_time": "2024-05-30T18:17:38.699276",
     "exception": false,
     "start_time": "2024-05-30T18:17:38.646349",
     "status": "completed"
    },
    "tags": []
   },
   "outputs": [
    {
     "data": {
      "text/plain": [
       "37.091422029601766"
      ]
     },
     "execution_count": 20,
     "metadata": {},
     "output_type": "execute_result"
    }
   ],
   "source": [
    "df['victims_age'].mean()"
   ]
  },
  {
   "cell_type": "code",
   "execution_count": 21,
   "id": "ef8a30c9",
   "metadata": {
    "execution": {
     "iopub.execute_input": "2024-05-30T18:17:38.780230Z",
     "iopub.status.busy": "2024-05-30T18:17:38.779764Z",
     "iopub.status.idle": "2024-05-30T18:17:39.118175Z",
     "shell.execute_reply": "2024-05-30T18:17:39.116787Z"
    },
    "papermill": {
     "duration": 0.381586,
     "end_time": "2024-05-30T18:17:39.121061",
     "exception": false,
     "start_time": "2024-05-30T18:17:38.739475",
     "status": "completed"
    },
    "tags": []
   },
   "outputs": [
    {
     "data": {
      "text/plain": [
       "<Axes: ylabel='Frequency'>"
      ]
     },
     "execution_count": 21,
     "metadata": {},
     "output_type": "execute_result"
    },
    {
     "data": {
      "image/png": "[encoded data removed]",
      "text/plain": [
       "<Figure size 640x480 with 1 Axes>"
      ]
     },
     "metadata": {},
     "output_type": "display_data"
    }
   ],
   "source": [
    "df['victims_age'].plot(kind = 'hist')"
   ]
  },
  {
   "cell_type": "code",
   "execution_count": 22,
   "id": "e300b057",
   "metadata": {
    "execution": {
     "iopub.execute_input": "2024-05-30T18:17:39.204312Z",
     "iopub.status.busy": "2024-05-30T18:17:39.203828Z",
     "iopub.status.idle": "2024-05-30T18:17:39.610466Z",
     "shell.execute_reply": "2024-05-30T18:17:39.609226Z"
    },
    "papermill": {
     "duration": 0.452797,
     "end_time": "2024-05-30T18:17:39.613143",
     "exception": false,
     "start_time": "2024-05-30T18:17:39.160346",
     "status": "completed"
    },
    "tags": []
   },
   "outputs": [
    {
     "data": {
      "text/plain": [
       "<Axes: xlabel='age_group'>"
      ]
     },
     "execution_count": 22,
     "metadata": {},
     "output_type": "execute_result"
    },
    {
     "data": {
      "image/png": "[encoded data removed]",
      "text/plain": [
       "<Figure size 640x480 with 1 Axes>"
      ]
     },
     "metadata": {},
     "output_type": "display_data"
    }
   ],
   "source": [
    "#lets bin the ages into groups so we can get a better idea of which age groups are most affected \n",
    "# Define the bins\n",
    "bins = [0, 17, 25, 33, 41, 49, float('inf')]\n",
    "# Define the labels\n",
    "labels = ['0-17', '18-25', '26-33', '34-41', '42-49', '50+']\n",
    "\n",
    "# Bin the 'victims_age' column\n",
    "df['age_group'] = pd.cut(df['victims_age'], bins=bins, labels=labels)\n",
    "\n",
    "df['age_group'].value_counts().sort_index().plot(kind = 'bar')"
   ]
  },
  {
   "cell_type": "markdown",
   "id": "4e10a4fa",
   "metadata": {
    "papermill": {
     "duration": 0.039602,
     "end_time": "2024-05-30T18:17:39.692560",
     "exception": false,
     "start_time": "2024-05-30T18:17:39.652958",
     "status": "completed"
    },
    "tags": []
   },
   "source": [
    "## So the average age of the victims is ~37, with 26-33 being the age group at highest risk "
   ]
  },
  {
   "cell_type": "markdown",
   "id": "272a699a",
   "metadata": {
    "papermill": {
     "duration": 0.03956,
     "end_time": "2024-05-30T18:17:39.775256",
     "exception": false,
     "start_time": "2024-05-30T18:17:39.735696",
     "status": "completed"
    },
    "tags": []
   },
   "source": [
    "## -----------------------------------------------------------------\n",
    "\n",
    "## -----------------------------------------------------------------"
   ]
  },
  {
   "cell_type": "code",
   "execution_count": 23,
   "id": "0918ecbe",
   "metadata": {
    "execution": {
     "iopub.execute_input": "2024-05-30T18:17:39.871175Z",
     "iopub.status.busy": "2024-05-30T18:17:39.870567Z",
     "iopub.status.idle": "2024-05-30T18:17:40.172633Z",
     "shell.execute_reply": "2024-05-30T18:17:40.171448Z"
    },
    "papermill": {
     "duration": 0.359967,
     "end_time": "2024-05-30T18:17:40.175519",
     "exception": false,
     "start_time": "2024-05-30T18:17:39.815552",
     "status": "completed"
    },
    "tags": []
   },
   "outputs": [
    {
     "data": {
      "text/plain": [
       "<Axes: xlabel='victims_race'>"
      ]
     },
     "execution_count": 23,
     "metadata": {},
     "output_type": "execute_result"
    },
    {
     "data": {
      "image/png": "[encoded data removed]",
      "text/plain": [
       "<Figure size 640x480 with 1 Axes>"
      ]
     },
     "metadata": {},
     "output_type": "display_data"
    }
   ],
   "source": [
    "#what is the percentage breakdown of each race in the set?\n",
    "df['victims_race'].value_counts(normalize = True).head(7).plot(kind = 'bar')"
   ]
  },
  {
   "cell_type": "code",
   "execution_count": 24,
   "id": "2f86fd14",
   "metadata": {
    "execution": {
     "iopub.execute_input": "2024-05-30T18:17:40.259415Z",
     "iopub.status.busy": "2024-05-30T18:17:40.258689Z",
     "iopub.status.idle": "2024-05-30T18:17:40.270365Z",
     "shell.execute_reply": "2024-05-30T18:17:40.269201Z"
    },
    "papermill": {
     "duration": 0.05598,
     "end_time": "2024-05-30T18:17:40.272750",
     "exception": false,
     "start_time": "2024-05-30T18:17:40.216770",
     "status": "completed"
    },
    "tags": []
   },
   "outputs": [
    {
     "data": {
      "text/plain": [
       "victims_race\n",
       "White                       0.447101\n",
       "Black                       0.254180\n",
       "Hispanic                    0.182607\n",
       "Unknown race                0.077043\n",
       "Asian                       0.018050\n",
       "Native American             0.013908\n",
       "Pacific Islander            0.003907\n",
       "Black;Hispanic              0.002657\n",
       "Native American;Hispanic    0.000547\n",
       "Name: proportion, dtype: float64"
      ]
     },
     "execution_count": 24,
     "metadata": {},
     "output_type": "execute_result"
    }
   ],
   "source": [
    "df['victims_race'].value_counts(normalize = True)"
   ]
  },
  {
   "cell_type": "markdown",
   "id": "ff81881e",
   "metadata": {
    "papermill": {
     "duration": 0.040164,
     "end_time": "2024-05-30T18:17:40.354709",
     "exception": false,
     "start_time": "2024-05-30T18:17:40.314545",
     "status": "completed"
    },
    "tags": []
   },
   "source": [
    "## Above is the race breakdown. Keep in mind that although whites make up a majority of the victims, this is may not be proportionate to their representation in the overall US population or to their representation in situations dealing with police overall\n",
    "\n",
    "## Before attempting to make conclusions on these data, we should take into consideration each races overall representation of the US population, and also their overall representation in all police interactions \n",
    "\n",
    "## For example, if one race is 10% of the US population, but 30% of police interactions, then this is a disparity\n",
    "## Additionally, if one race is 10% of police interactions, but 30% of police killings, then this is also a disparity\n"
   ]
  },
  {
   "cell_type": "markdown",
   "id": "0f16a6fc",
   "metadata": {
    "papermill": {
     "duration": 0.040508,
     "end_time": "2024-05-30T18:17:40.437607",
     "exception": false,
     "start_time": "2024-05-30T18:17:40.397099",
     "status": "completed"
    },
    "tags": []
   },
   "source": [
    "## -----------------------------------------------------------------\n",
    "\n",
    "## -----------------------------------------------------------------"
   ]
  },
  {
   "cell_type": "code",
   "execution_count": 25,
   "id": "37fd8d22",
   "metadata": {
    "execution": {
     "iopub.execute_input": "2024-05-30T18:17:40.521551Z",
     "iopub.status.busy": "2024-05-30T18:17:40.520518Z",
     "iopub.status.idle": "2024-05-30T18:17:40.530219Z",
     "shell.execute_reply": "2024-05-30T18:17:40.528506Z"
    },
    "papermill": {
     "duration": 0.054044,
     "end_time": "2024-05-30T18:17:40.532806",
     "exception": false,
     "start_time": "2024-05-30T18:17:40.478762",
     "status": "completed"
    },
    "tags": []
   },
   "outputs": [
    {
     "data": {
      "text/plain": [
       "0       2024-05-10\n",
       "1       2024-05-10\n",
       "2       2024-05-10\n",
       "3       2024-05-10\n",
       "4       2024-05-10\n",
       "           ...    \n",
       "12793   2013-01-01\n",
       "12794   2013-01-01\n",
       "12795   2013-01-01\n",
       "12796   2013-01-01\n",
       "12797   2013-01-01\n",
       "Name: date_of_incident_monthdayyear, Length: 12798, dtype: datetime64[ns]"
      ]
     },
     "execution_count": 25,
     "metadata": {},
     "output_type": "execute_result"
    }
   ],
   "source": [
    "#lets turn the current date column into something we can use\n",
    "#I want to see the trend in killings per year\n",
    "df['date_of_incident_monthdayyear']"
   ]
  },
  {
   "cell_type": "code",
   "execution_count": 26,
   "id": "c5f33530",
   "metadata": {
    "execution": {
     "iopub.execute_input": "2024-05-30T18:17:40.618136Z",
     "iopub.status.busy": "2024-05-30T18:17:40.617729Z",
     "iopub.status.idle": "2024-05-30T18:17:40.624915Z",
     "shell.execute_reply": "2024-05-30T18:17:40.623668Z"
    },
    "papermill": {
     "duration": 0.052881,
     "end_time": "2024-05-30T18:17:40.627396",
     "exception": false,
     "start_time": "2024-05-30T18:17:40.574515",
     "status": "completed"
    },
    "tags": []
   },
   "outputs": [
    {
     "data": {
      "text/plain": [
       "dtype('<M8[ns]')"
      ]
     },
     "execution_count": 26,
     "metadata": {},
     "output_type": "execute_result"
    }
   ],
   "source": [
    "df['date_of_incident_monthdayyear'].dtype"
   ]
  },
  {
   "cell_type": "code",
   "execution_count": 27,
   "id": "10ece9de",
   "metadata": {
    "execution": {
     "iopub.execute_input": "2024-05-30T18:17:40.712021Z",
     "iopub.status.busy": "2024-05-30T18:17:40.711254Z",
     "iopub.status.idle": "2024-05-30T18:17:40.729531Z",
     "shell.execute_reply": "2024-05-30T18:17:40.728218Z"
    },
    "papermill": {
     "duration": 0.064211,
     "end_time": "2024-05-30T18:17:40.732420",
     "exception": false,
     "start_time": "2024-05-30T18:17:40.668209",
     "status": "completed"
    },
    "tags": []
   },
   "outputs": [],
   "source": [
    "#change to string so we can pull the year only \n",
    "df['date_of_incident_monthdayyear'] = df['date_of_incident_monthdayyear'].astype('str')"
   ]
  },
  {
   "cell_type": "code",
   "execution_count": 28,
   "id": "865bb4e6",
   "metadata": {
    "execution": {
     "iopub.execute_input": "2024-05-30T18:17:40.816935Z",
     "iopub.status.busy": "2024-05-30T18:17:40.816486Z",
     "iopub.status.idle": "2024-05-30T18:17:40.827856Z",
     "shell.execute_reply": "2024-05-30T18:17:40.826574Z"
    },
    "papermill": {
     "duration": 0.056989,
     "end_time": "2024-05-30T18:17:40.830314",
     "exception": false,
     "start_time": "2024-05-30T18:17:40.773325",
     "status": "completed"
    },
    "tags": []
   },
   "outputs": [],
   "source": [
    "#pull the year \n",
    "df['year'] = df[\"date_of_incident_monthdayyear\"].str[:4]"
   ]
  },
  {
   "cell_type": "code",
   "execution_count": 29,
   "id": "041ca09b",
   "metadata": {
    "execution": {
     "iopub.execute_input": "2024-05-30T18:17:40.917715Z",
     "iopub.status.busy": "2024-05-30T18:17:40.916560Z",
     "iopub.status.idle": "2024-05-30T18:17:40.937591Z",
     "shell.execute_reply": "2024-05-30T18:17:40.936317Z"
    },
    "papermill": {
     "duration": 0.066727,
     "end_time": "2024-05-30T18:17:40.940436",
     "exception": false,
     "start_time": "2024-05-30T18:17:40.873709",
     "status": "completed"
    },
    "tags": []
   },
   "outputs": [],
   "source": [
    "#change year to numeric so we can chart \n",
    "df['year'] = pd.to_numeric(df['year'])"
   ]
  },
  {
   "cell_type": "code",
   "execution_count": 30,
   "id": "d5cfe07d",
   "metadata": {
    "execution": {
     "iopub.execute_input": "2024-05-30T18:17:41.024357Z",
     "iopub.status.busy": "2024-05-30T18:17:41.023885Z",
     "iopub.status.idle": "2024-05-30T18:17:41.036128Z",
     "shell.execute_reply": "2024-05-30T18:17:41.034928Z"
    },
    "papermill": {
     "duration": 0.057282,
     "end_time": "2024-05-30T18:17:41.038521",
     "exception": false,
     "start_time": "2024-05-30T18:17:40.981239",
     "status": "completed"
    },
    "tags": []
   },
   "outputs": [
    {
     "data": {
      "text/plain": [
       "year\n",
       "2013    1077\n",
       "2014    1039\n",
       "2015    1100\n",
       "2016    1065\n",
       "2017    1089\n",
       "2018    1139\n",
       "2019    1098\n",
       "2020    1160\n",
       "2021    1148\n",
       "2022    1203\n",
       "2023    1247\n",
       "2024     433\n",
       "Name: count, dtype: int64"
      ]
     },
     "execution_count": 30,
     "metadata": {},
     "output_type": "execute_result"
    }
   ],
   "source": [
    "df['year'].value_counts().sort_index()"
   ]
  },
  {
   "cell_type": "code",
   "execution_count": 31,
   "id": "eba56b8a",
   "metadata": {
    "execution": {
     "iopub.execute_input": "2024-05-30T18:17:41.123421Z",
     "iopub.status.busy": "2024-05-30T18:17:41.123014Z",
     "iopub.status.idle": "2024-05-30T18:17:41.457593Z",
     "shell.execute_reply": "2024-05-30T18:17:41.456436Z"
    },
    "papermill": {
     "duration": 0.379556,
     "end_time": "2024-05-30T18:17:41.460115",
     "exception": false,
     "start_time": "2024-05-30T18:17:41.080559",
     "status": "completed"
    },
    "tags": []
   },
   "outputs": [
    {
     "data": {
      "text/plain": [
       "<Axes: xlabel='year'>"
      ]
     },
     "execution_count": 31,
     "metadata": {},
     "output_type": "execute_result"
    },
    {
     "data": {
      "image/png": "[encoded data removed]",
      "text/plain": [
       "<Figure size 640x480 with 1 Axes>"
      ]
     },
     "metadata": {},
     "output_type": "display_data"
    }
   ],
   "source": [
    "df['year'].value_counts().sort_index().plot(kind = 'bar')"
   ]
  },
  {
   "cell_type": "markdown",
   "id": "9f3ee1ab",
   "metadata": {
    "papermill": {
     "duration": 0.043464,
     "end_time": "2024-05-30T18:17:41.545063",
     "exception": false,
     "start_time": "2024-05-30T18:17:41.501599",
     "status": "completed"
    },
    "tags": []
   },
   "source": [
    "## Looks like there is a slight upward trend year over year and that's worrying! Lets take a closer look\n",
    "\n",
    "## We will perform a linear regression to see if there is a statistically significant upward trend overtime"
   ]
  },
  {
   "cell_type": "code",
   "execution_count": 32,
   "id": "729559ab",
   "metadata": {
    "execution": {
     "iopub.execute_input": "2024-05-30T18:17:41.632079Z",
     "iopub.status.busy": "2024-05-30T18:17:41.631626Z",
     "iopub.status.idle": "2024-05-30T18:17:41.712635Z",
     "shell.execute_reply": "2024-05-30T18:17:41.711656Z"
    },
    "papermill": {
     "duration": 0.126883,
     "end_time": "2024-05-30T18:17:41.715265",
     "exception": false,
     "start_time": "2024-05-30T18:17:41.588382",
     "status": "completed"
    },
    "tags": []
   },
   "outputs": [],
   "source": [
    "#first exclude 2024, as this will throw off our test \n",
    "completed_years = df.query('year != 2024').copy()\n"
   ]
  },
  {
   "cell_type": "code",
   "execution_count": 33,
   "id": "7fefc876",
   "metadata": {
    "execution": {
     "iopub.execute_input": "2024-05-30T18:17:41.800780Z",
     "iopub.status.busy": "2024-05-30T18:17:41.800320Z",
     "iopub.status.idle": "2024-05-30T18:17:41.809306Z",
     "shell.execute_reply": "2024-05-30T18:17:41.808119Z"
    },
    "papermill": {
     "duration": 0.054667,
     "end_time": "2024-05-30T18:17:41.811541",
     "exception": false,
     "start_time": "2024-05-30T18:17:41.756874",
     "status": "completed"
    },
    "tags": []
   },
   "outputs": [
    {
     "data": {
      "text/plain": [
       "1124.090909090909"
      ]
     },
     "execution_count": 33,
     "metadata": {},
     "output_type": "execute_result"
    }
   ],
   "source": [
    "#first lets calculate the average amount of killings per year now that we removed the incomplete 2024\n",
    "completed_years['year'].value_counts().mean()"
   ]
  },
  {
   "cell_type": "code",
   "execution_count": 34,
   "id": "7a804ec1",
   "metadata": {
    "execution": {
     "iopub.execute_input": "2024-05-30T18:17:41.901788Z",
     "iopub.status.busy": "2024-05-30T18:17:41.900516Z",
     "iopub.status.idle": "2024-05-30T18:17:41.911918Z",
     "shell.execute_reply": "2024-05-30T18:17:41.910946Z"
    },
    "papermill": {
     "duration": 0.059206,
     "end_time": "2024-05-30T18:17:41.914613",
     "exception": false,
     "start_time": "2024-05-30T18:17:41.855407",
     "status": "completed"
    },
    "tags": []
   },
   "outputs": [],
   "source": [
    "event_counts = completed_years['year'].value_counts().sort_index()\n",
    "event_counts = event_counts.reset_index()\n",
    "event_counts.columns = ['Year', 'Event_Count']\n",
    "\n",
    "X = sm.add_constant(event_counts['Year'])\n",
    "y = event_counts['Event_Count']"
   ]
  },
  {
   "cell_type": "code",
   "execution_count": 35,
   "id": "3e6d47ef",
   "metadata": {
    "execution": {
     "iopub.execute_input": "2024-05-30T18:17:42.007203Z",
     "iopub.status.busy": "2024-05-30T18:17:42.006423Z",
     "iopub.status.idle": "2024-05-30T18:17:42.027502Z",
     "shell.execute_reply": "2024-05-30T18:17:42.025795Z"
    },
    "papermill": {
     "duration": 0.070297,
     "end_time": "2024-05-30T18:17:42.030414",
     "exception": false,
     "start_time": "2024-05-30T18:17:41.960117",
     "status": "completed"
    },
    "tags": []
   },
   "outputs": [],
   "source": [
    "model = sm.OLS(y, X).fit()"
   ]
  },
  {
   "cell_type": "code",
   "execution_count": 36,
   "id": "6d5bc978",
   "metadata": {
    "execution": {
     "iopub.execute_input": "2024-05-30T18:17:42.120150Z",
     "iopub.status.busy": "2024-05-30T18:17:42.118818Z",
     "iopub.status.idle": "2024-05-30T18:17:42.145679Z",
     "shell.execute_reply": "2024-05-30T18:17:42.144473Z"
    },
    "papermill": {
     "duration": 0.07683,
     "end_time": "2024-05-30T18:17:42.149605",
     "exception": false,
     "start_time": "2024-05-30T18:17:42.072775",
     "status": "completed"
    },
    "tags": []
   },
   "outputs": [
    {
     "name": "stdout",
     "output_type": "stream",
     "text": [
      "                            OLS Regression Results                            \n",
      "==============================================================================\n",
      "Dep. Variable:            Event_Count   R-squared:                       0.800\n",
      "Model:                            OLS   Adj. R-squared:                  0.778\n",
      "Method:                 Least Squares   F-statistic:                     35.96\n",
      "Date:                Thu, 30 May 2024   Prob (F-statistic):           0.000203\n",
      "Time:                        18:17:42   Log-Likelihood:                -51.695\n",
      "No. Observations:                  11   AIC:                             107.4\n",
      "Df Residuals:                       9   BIC:                             108.2\n",
      "Df Model:                           1                                         \n",
      "Covariance Type:            nonrobust                                         \n",
      "==============================================================================\n",
      "                 coef    std err          t      P>|t|      [0.025      0.975]\n",
      "------------------------------------------------------------------------------\n",
      "const       -3.28e+04   5656.701     -5.798      0.000   -4.56e+04      -2e+04\n",
      "Year          16.8091      2.803      5.997      0.000      10.468      23.150\n",
      "==============================================================================\n",
      "Omnibus:                        1.745   Durbin-Watson:                   2.212\n",
      "Prob(Omnibus):                  0.418   Jarque-Bera (JB):                0.807\n",
      "Skew:                           0.031   Prob(JB):                        0.668\n",
      "Kurtosis:                       1.674   Cond. No.                     1.29e+06\n",
      "==============================================================================\n",
      "\n",
      "Notes:\n",
      "[1] Standard Errors assume that the covariance matrix of the errors is correctly specified.\n",
      "[2] The condition number is large, 1.29e+06. This might indicate that there are\n",
      "strong multicollinearity or other numerical problems.\n"
     ]
    },
    {
     "name": "stderr",
     "output_type": "stream",
     "text": [
      "/opt/conda/lib/python3.10/site-packages/scipy/stats/_stats_py.py:1806: UserWarning: kurtosistest only valid for n>=20 ... continuing anyway, n=11\n",
      "  warnings.warn(\"kurtosistest only valid for n>=20 ... continuing \"\n"
     ]
    }
   ],
   "source": [
    "print(model.summary())"
   ]
  },
  {
   "cell_type": "markdown",
   "id": "8caa1cb7",
   "metadata": {
    "papermill": {
     "duration": 0.042137,
     "end_time": "2024-05-30T18:17:42.235273",
     "exception": false,
     "start_time": "2024-05-30T18:17:42.193136",
     "status": "completed"
    },
    "tags": []
   },
   "source": [
    "## So we can see that our p value is 0.000, which is less than 0.05, meaning that there is a statically significant relationship between the year and the amount of killings \n",
    "\n",
    "## Our test results tell us that killings are increasing by an average of ~17 every year"
   ]
  },
  {
   "cell_type": "code",
   "execution_count": 37,
   "id": "be0e2e0c",
   "metadata": {
    "execution": {
     "iopub.execute_input": "2024-05-30T18:17:42.325233Z",
     "iopub.status.busy": "2024-05-30T18:17:42.324414Z",
     "iopub.status.idle": "2024-05-30T18:17:42.330805Z",
     "shell.execute_reply": "2024-05-30T18:17:42.329915Z"
    },
    "papermill": {
     "duration": 0.054269,
     "end_time": "2024-05-30T18:17:42.333410",
     "exception": false,
     "start_time": "2024-05-30T18:17:42.279141",
     "status": "completed"
    },
    "tags": []
   },
   "outputs": [
    {
     "data": {
      "text/plain": [
       "1.5124555160142348"
      ]
     },
     "execution_count": 37,
     "metadata": {},
     "output_type": "execute_result"
    }
   ],
   "source": [
    "#percentage increase per year based on the mean \n",
    "17 / 1124 * 100"
   ]
  },
  {
   "cell_type": "markdown",
   "id": "5fd63636",
   "metadata": {
    "papermill": {
     "duration": 0.042475,
     "end_time": "2024-05-30T18:17:42.421091",
     "exception": false,
     "start_time": "2024-05-30T18:17:42.378616",
     "status": "completed"
    },
    "tags": []
   },
   "source": [
    "## -----------------------------------------------------------------\n",
    "\n",
    "## -----------------------------------------------------------------"
   ]
  },
  {
   "cell_type": "code",
   "execution_count": 38,
   "id": "a6dcc5c3",
   "metadata": {
    "execution": {
     "iopub.execute_input": "2024-05-30T18:17:42.509383Z",
     "iopub.status.busy": "2024-05-30T18:17:42.508452Z",
     "iopub.status.idle": "2024-05-30T18:17:42.538982Z",
     "shell.execute_reply": "2024-05-30T18:17:42.537678Z"
    },
    "papermill": {
     "duration": 0.077013,
     "end_time": "2024-05-30T18:17:42.541647",
     "exception": false,
     "start_time": "2024-05-30T18:17:42.464634",
     "status": "completed"
    },
    "tags": []
   },
   "outputs": [
    {
     "data": {
      "text/plain": [
       "0        5\n",
       "1        5\n",
       "2        5\n",
       "3        5\n",
       "4        5\n",
       "        ..\n",
       "12793    1\n",
       "12794    1\n",
       "12795    1\n",
       "12796    1\n",
       "12797    1\n",
       "Name: month, Length: 12798, dtype: int64"
      ]
     },
     "execution_count": 38,
     "metadata": {},
     "output_type": "execute_result"
    }
   ],
   "source": [
    "# lets pull the month too, and see if any months are higher/lower than others \n",
    "# are there less killings in December than other months?\n",
    "df['month'] = df[\"date_of_incident_monthdayyear\"].str[5:7]\n",
    "\n",
    "df['month'] = pd.to_numeric(df['month'])\n",
    "\n",
    "df['month']"
   ]
  },
  {
   "cell_type": "code",
   "execution_count": 39,
   "id": "b7e6ec06",
   "metadata": {
    "execution": {
     "iopub.execute_input": "2024-05-30T18:17:42.629885Z",
     "iopub.status.busy": "2024-05-30T18:17:42.629070Z",
     "iopub.status.idle": "2024-05-30T18:17:42.638920Z",
     "shell.execute_reply": "2024-05-30T18:17:42.637622Z"
    },
    "papermill": {
     "duration": 0.05686,
     "end_time": "2024-05-30T18:17:42.641410",
     "exception": false,
     "start_time": "2024-05-30T18:17:42.584550",
     "status": "completed"
    },
    "tags": []
   },
   "outputs": [
    {
     "data": {
      "text/plain": [
       "month\n",
       "1     1136\n",
       "2     1026\n",
       "3     1212\n",
       "4     1116\n",
       "5     1089\n",
       "6     1046\n",
       "7     1059\n",
       "8     1109\n",
       "9      931\n",
       "10    1047\n",
       "11     967\n",
       "12    1060\n",
       "Name: count, dtype: int64"
      ]
     },
     "execution_count": 39,
     "metadata": {},
     "output_type": "execute_result"
    }
   ],
   "source": [
    "df['month'].value_counts().sort_index()"
   ]
  },
  {
   "cell_type": "code",
   "execution_count": 40,
   "id": "107e9ca7",
   "metadata": {
    "execution": {
     "iopub.execute_input": "2024-05-30T18:17:42.729914Z",
     "iopub.status.busy": "2024-05-30T18:17:42.729236Z",
     "iopub.status.idle": "2024-05-30T18:17:43.047494Z",
     "shell.execute_reply": "2024-05-30T18:17:43.046046Z"
    },
    "papermill": {
     "duration": 0.364974,
     "end_time": "2024-05-30T18:17:43.050305",
     "exception": false,
     "start_time": "2024-05-30T18:17:42.685331",
     "status": "completed"
    },
    "tags": []
   },
   "outputs": [
    {
     "data": {
      "text/plain": [
       "<Axes: xlabel='month'>"
      ]
     },
     "execution_count": 40,
     "metadata": {},
     "output_type": "execute_result"
    },
    {
     "data": {
      "image/png": "[encoded data removed]",
      "text/plain": [
       "<Figure size 640x480 with 1 Axes>"
      ]
     },
     "metadata": {},
     "output_type": "display_data"
    }
   ],
   "source": [
    "df['month'].value_counts().sort_index().plot(kind = 'bar')"
   ]
  },
  {
   "cell_type": "markdown",
   "id": "ceecc396",
   "metadata": {
    "papermill": {
     "duration": 0.043315,
     "end_time": "2024-05-30T18:17:43.137775",
     "exception": false,
     "start_time": "2024-05-30T18:17:43.094460",
     "status": "completed"
    },
    "tags": []
   },
   "source": [
    "## So very similar values for each month, seems like time of year has very little impact\n",
    "\n",
    "## Very strange that killings are so steady throughout the year. Keep in mind these are the counts for the entire span of all years in the dataset, so it looks they they average out to be pretty similar over time.\n",
    "\n",
    "## Our question posed at the start of this section is now answered, there sadly are not less killings in December on average"
   ]
  },
  {
   "cell_type": "markdown",
   "id": "88baccfb",
   "metadata": {
    "papermill": {
     "duration": 0.043955,
     "end_time": "2024-05-30T18:17:43.225287",
     "exception": false,
     "start_time": "2024-05-30T18:17:43.181332",
     "status": "completed"
    },
    "tags": []
   },
   "source": [
    "## -----------------------------------------------------------------\n",
    "\n",
    "## -----------------------------------------------------------------"
   ]
  },
  {
   "cell_type": "markdown",
   "id": "00bf27f5",
   "metadata": {
    "papermill": {
     "duration": 0.043855,
     "end_time": "2024-05-30T18:17:43.313571",
     "exception": false,
     "start_time": "2024-05-30T18:17:43.269716",
     "status": "completed"
    },
    "tags": []
   },
   "source": [
    "## -----------------------------------------------------------------\n",
    "\n",
    "## -----------------------------------------------------------------"
   ]
  },
  {
   "cell_type": "markdown",
   "id": "43752aea",
   "metadata": {
    "papermill": {
     "duration": 0.042519,
     "end_time": "2024-05-30T18:17:43.399001",
     "exception": false,
     "start_time": "2024-05-30T18:17:43.356482",
     "status": "completed"
    },
    "tags": []
   },
   "source": [
    "## -----------------------------------------------------------------\n",
    "\n",
    "## -----------------------------------------------------------------"
   ]
  },
  {
   "cell_type": "code",
   "execution_count": 41,
   "id": "3a4e97d5",
   "metadata": {
    "execution": {
     "iopub.execute_input": "2024-05-30T18:17:43.486728Z",
     "iopub.status.busy": "2024-05-30T18:17:43.486270Z",
     "iopub.status.idle": "2024-05-30T18:17:43.498697Z",
     "shell.execute_reply": "2024-05-30T18:17:43.497443Z"
    },
    "papermill": {
     "duration": 0.059277,
     "end_time": "2024-05-30T18:17:43.501231",
     "exception": false,
     "start_time": "2024-05-30T18:17:43.441954",
     "status": "completed"
    },
    "tags": []
   },
   "outputs": [
    {
     "data": {
      "text/plain": [
       "state\n",
       "CA    1834\n",
       "TX    1243\n",
       "FL     872\n",
       "AZ     564\n",
       "GA     493\n",
       "CO     406\n",
       "NC     364\n",
       "OH     349\n",
       "WA     343\n",
       "MO     331\n",
       "TN     330\n",
       "OK     327\n",
       "IL     293\n",
       "PA     285\n",
       "NY     267\n",
       "NM     252\n",
       "LA     248\n",
       "AL     242\n",
       "IN     234\n",
       "MI     223\n",
       "VA     218\n",
       "KY     205\n",
       "NV     203\n",
       "SC     200\n",
       "OR     196\n",
       "WI     191\n",
       "MS     187\n",
       "MD     187\n",
       "AR     180\n",
       "UT     150\n",
       "NJ     148\n",
       "MN     127\n",
       "KS     125\n",
       "WV     114\n",
       "ID      99\n",
       "MA      83\n",
       "MT      76\n",
       "IA      74\n",
       "AK      68\n",
       "NE      63\n",
       "ME      56\n",
       "HI      56\n",
       "CT      54\n",
       "DC      46\n",
       "SD      40\n",
       "WY      39\n",
       "NH      33\n",
       "DE      28\n",
       "ND      23\n",
       "VT      18\n",
       "RI      11\n",
       "Name: count, dtype: int64"
      ]
     },
     "execution_count": 41,
     "metadata": {},
     "output_type": "execute_result"
    }
   ],
   "source": [
    "#what is the breakdown by state?\n",
    "df['state'].value_counts()"
   ]
  },
  {
   "cell_type": "code",
   "execution_count": 42,
   "id": "6496bd04",
   "metadata": {
    "execution": {
     "iopub.execute_input": "2024-05-30T18:17:43.589054Z",
     "iopub.status.busy": "2024-05-30T18:17:43.588630Z",
     "iopub.status.idle": "2024-05-30T18:17:44.266566Z",
     "shell.execute_reply": "2024-05-30T18:17:44.265593Z"
    },
    "papermill": {
     "duration": 0.724616,
     "end_time": "2024-05-30T18:17:44.268959",
     "exception": false,
     "start_time": "2024-05-30T18:17:43.544343",
     "status": "completed"
    },
    "tags": []
   },
   "outputs": [
    {
     "data": {
      "text/plain": [
       "<Axes: xlabel='state'>"
      ]
     },
     "execution_count": 42,
     "metadata": {},
     "output_type": "execute_result"
    },
    {
     "data": {
      "image/png": "[encoded data removed]",
      "text/plain": [
       "<Figure size 1000x800 with 1 Axes>"
      ]
     },
     "metadata": {},
     "output_type": "display_data"
    }
   ],
   "source": [
    "df['state'].value_counts().plot(kind = 'bar', figsize = (10,8))"
   ]
  },
  {
   "cell_type": "markdown",
   "id": "705402b6",
   "metadata": {
    "papermill": {
     "duration": 0.044258,
     "end_time": "2024-05-30T18:17:44.357088",
     "exception": false,
     "start_time": "2024-05-30T18:17:44.312830",
     "status": "completed"
    },
    "tags": []
   },
   "source": [
    "## To get a better understanding of the broader meaning of these numbers, we need to know the population of each state. Then we can break down police killings into a metric of something like: killing per 100,000 in each state\n",
    "\n",
    "## It would also help to know the racial demographics of each state, so we can create similar metrics based on a more refined measure and better understand the racial component of these data\n",
    "\n",
    "## Luckily this information is included\n",
    "\n",
    "## I may or may not include it below, or save it for another notebook with a more specific goal in mind"
   ]
  },
  {
   "cell_type": "markdown",
   "id": "2fddc20e",
   "metadata": {
    "papermill": {
     "duration": 0.044384,
     "end_time": "2024-05-30T18:17:44.445861",
     "exception": false,
     "start_time": "2024-05-30T18:17:44.401477",
     "status": "completed"
    },
    "tags": []
   },
   "source": [
    "## -----------------------------------------------------------------\n",
    "# ANALYSIS \n",
    "## -----------------------------------------------------------------"
   ]
  },
  {
   "cell_type": "code",
   "execution_count": 43,
   "id": "01fc44ca",
   "metadata": {
    "execution": {
     "iopub.execute_input": "2024-05-30T18:17:44.537165Z",
     "iopub.status.busy": "2024-05-30T18:17:44.536688Z",
     "iopub.status.idle": "2024-05-30T18:17:44.542127Z",
     "shell.execute_reply": "2024-05-30T18:17:44.540617Z"
    },
    "papermill": {
     "duration": 0.054796,
     "end_time": "2024-05-30T18:17:44.544762",
     "exception": false,
     "start_time": "2024-05-30T18:17:44.489966",
     "status": "completed"
    },
    "tags": []
   },
   "outputs": [],
   "source": [
    "#As I am living in Miami, lets check killings in Miami-Dade county in FL "
   ]
  },
  {
   "cell_type": "code",
   "execution_count": 44,
   "id": "c7e7855b",
   "metadata": {
    "execution": {
     "iopub.execute_input": "2024-05-30T18:17:44.635561Z",
     "iopub.status.busy": "2024-05-30T18:17:44.634800Z",
     "iopub.status.idle": "2024-05-30T18:17:44.683455Z",
     "shell.execute_reply": "2024-05-30T18:17:44.682120Z"
    },
    "papermill": {
     "duration": 0.096987,
     "end_time": "2024-05-30T18:17:44.686256",
     "exception": false,
     "start_time": "2024-05-30T18:17:44.589269",
     "status": "completed"
    },
    "tags": []
   },
   "outputs": [
    {
     "data": {
      "text/html": [
       "<div>\n",
       "<style scoped>\n",
       "    .dataframe tbody tr th:only-of-type {\n",
       "        vertical-align: middle;\n",
       "    }\n",
       "\n",
       "    .dataframe tbody tr th {\n",
       "        vertical-align: top;\n",
       "    }\n",
       "\n",
       "    .dataframe thead th {\n",
       "        text-align: right;\n",
       "    }\n",
       "</style>\n",
       "<table border=\"1\" class=\"dataframe\">\n",
       "  <thead>\n",
       "    <tr style=\"text-align: right;\">\n",
       "      <th></th>\n",
       "      <th>victims_name</th>\n",
       "      <th>victims_age</th>\n",
       "      <th>victims_gender</th>\n",
       "      <th>victims_race</th>\n",
       "      <th>url_of_image_of_victim</th>\n",
       "      <th>date_of_incident_monthdayyear</th>\n",
       "      <th>street_address_of_incident</th>\n",
       "      <th>city</th>\n",
       "      <th>state</th>\n",
       "      <th>zipcode</th>\n",
       "      <th>...</th>\n",
       "      <th>chief_prosecutor_political_party</th>\n",
       "      <th>chief_prosecutor_term</th>\n",
       "      <th>officer_prosecuted_by_prosecutor_in_court</th>\n",
       "      <th>special_prosecutor</th>\n",
       "      <th>independent_investigation</th>\n",
       "      <th>prosecutor_source_link</th>\n",
       "      <th>killed_by_police_201324</th>\n",
       "      <th>age_group</th>\n",
       "      <th>year</th>\n",
       "      <th>month</th>\n",
       "    </tr>\n",
       "  </thead>\n",
       "  <tbody>\n",
       "    <tr>\n",
       "      <th>132</th>\n",
       "      <td>Jamal Wayne Wood</td>\n",
       "      <td>37.0</td>\n",
       "      <td>Male</td>\n",
       "      <td>Unknown race</td>\n",
       "      <td>NaN</td>\n",
       "      <td>2024-04-06</td>\n",
       "      <td>3450 NW 83rd Ave</td>\n",
       "      <td>Doral</td>\n",
       "      <td>FL</td>\n",
       "      <td>NaN</td>\n",
       "      <td>...</td>\n",
       "      <td>NaN</td>\n",
       "      <td>NaN</td>\n",
       "      <td>NaN</td>\n",
       "      <td>NaN</td>\n",
       "      <td>NaN</td>\n",
       "      <td>NaN</td>\n",
       "      <td>1</td>\n",
       "      <td>34-41</td>\n",
       "      <td>2024</td>\n",
       "      <td>4</td>\n",
       "    </tr>\n",
       "    <tr>\n",
       "      <th>158</th>\n",
       "      <td>Leandro Francisco Ledea Chong</td>\n",
       "      <td>34.0</td>\n",
       "      <td>Male</td>\n",
       "      <td>Hispanic</td>\n",
       "      <td>https://res.cloudinary.com/graham-media-group/...</td>\n",
       "      <td>2024-03-30</td>\n",
       "      <td>462 Sunrise Blvd</td>\n",
       "      <td>Homestead</td>\n",
       "      <td>FL</td>\n",
       "      <td>NaN</td>\n",
       "      <td>...</td>\n",
       "      <td>NaN</td>\n",
       "      <td>NaN</td>\n",
       "      <td>NaN</td>\n",
       "      <td>NaN</td>\n",
       "      <td>NaN</td>\n",
       "      <td>NaN</td>\n",
       "      <td>1</td>\n",
       "      <td>34-41</td>\n",
       "      <td>2024</td>\n",
       "      <td>3</td>\n",
       "    </tr>\n",
       "    <tr>\n",
       "      <th>382</th>\n",
       "      <td>Christopher Lynn Bailey</td>\n",
       "      <td>52.0</td>\n",
       "      <td>Male</td>\n",
       "      <td>White</td>\n",
       "      <td>https://860wacb.com/wp-content/uploads/Bailey-...</td>\n",
       "      <td>2024-01-17</td>\n",
       "      <td>Southwest 162nd Avenue and near 216th Street</td>\n",
       "      <td>Miami</td>\n",
       "      <td>FL</td>\n",
       "      <td>NaN</td>\n",
       "      <td>...</td>\n",
       "      <td>NaN</td>\n",
       "      <td>NaN</td>\n",
       "      <td>NaN</td>\n",
       "      <td>NaN</td>\n",
       "      <td>NaN</td>\n",
       "      <td>NaN</td>\n",
       "      <td>1</td>\n",
       "      <td>50+</td>\n",
       "      <td>2024</td>\n",
       "      <td>1</td>\n",
       "    </tr>\n",
       "    <tr>\n",
       "      <th>561</th>\n",
       "      <td>Osvaldo Cueli</td>\n",
       "      <td>59.0</td>\n",
       "      <td>Male</td>\n",
       "      <td>Hispanic</td>\n",
       "      <td>NaN</td>\n",
       "      <td>2023-11-29</td>\n",
       "      <td>18000 SW 182nd St</td>\n",
       "      <td>Miami</td>\n",
       "      <td>FL</td>\n",
       "      <td>33187.0</td>\n",
       "      <td>...</td>\n",
       "      <td>NaN</td>\n",
       "      <td>NaN</td>\n",
       "      <td>NaN</td>\n",
       "      <td>NaN</td>\n",
       "      <td>NaN</td>\n",
       "      <td>NaN</td>\n",
       "      <td>1</td>\n",
       "      <td>50+</td>\n",
       "      <td>2023</td>\n",
       "      <td>11</td>\n",
       "    </tr>\n",
       "    <tr>\n",
       "      <th>687</th>\n",
       "      <td>Daniel Allen Kempf</td>\n",
       "      <td>24.0</td>\n",
       "      <td>Male</td>\n",
       "      <td>White</td>\n",
       "      <td>NaN</td>\n",
       "      <td>2023-10-22</td>\n",
       "      <td>1298 SE 11th Pl</td>\n",
       "      <td>Homestead</td>\n",
       "      <td>FL</td>\n",
       "      <td>33035.0</td>\n",
       "      <td>...</td>\n",
       "      <td>NaN</td>\n",
       "      <td>NaN</td>\n",
       "      <td>NaN</td>\n",
       "      <td>NaN</td>\n",
       "      <td>NaN</td>\n",
       "      <td>NaN</td>\n",
       "      <td>1</td>\n",
       "      <td>18-25</td>\n",
       "      <td>2023</td>\n",
       "      <td>10</td>\n",
       "    </tr>\n",
       "  </tbody>\n",
       "</table>\n",
       "<p>5 rows × 67 columns</p>\n",
       "</div>"
      ],
      "text/plain": [
       "                      victims_name  victims_age victims_gender  victims_race  \\\n",
       "132               Jamal Wayne Wood         37.0           Male  Unknown race   \n",
       "158  Leandro Francisco Ledea Chong         34.0           Male      Hispanic   \n",
       "382        Christopher Lynn Bailey         52.0           Male         White   \n",
       "561                  Osvaldo Cueli         59.0           Male      Hispanic   \n",
       "687             Daniel Allen Kempf         24.0           Male         White   \n",
       "\n",
       "                                url_of_image_of_victim  \\\n",
       "132                                                NaN   \n",
       "158  https://res.cloudinary.com/graham-media-group/...   \n",
       "382  https://860wacb.com/wp-content/uploads/Bailey-...   \n",
       "561                                                NaN   \n",
       "687                                                NaN   \n",
       "\n",
       "    date_of_incident_monthdayyear  \\\n",
       "132                    2024-04-06   \n",
       "158                    2024-03-30   \n",
       "382                    2024-01-17   \n",
       "561                    2023-11-29   \n",
       "687                    2023-10-22   \n",
       "\n",
       "                       street_address_of_incident       city state  zipcode  \\\n",
       "132                              3450 NW 83rd Ave      Doral    FL      NaN   \n",
       "158                              462 Sunrise Blvd  Homestead    FL      NaN   \n",
       "382  Southwest 162nd Avenue and near 216th Street      Miami    FL      NaN   \n",
       "561                             18000 SW 182nd St      Miami    FL  33187.0   \n",
       "687                               1298 SE 11th Pl  Homestead    FL  33035.0   \n",
       "\n",
       "     ... chief_prosecutor_political_party chief_prosecutor_term  \\\n",
       "132  ...                              NaN                   NaN   \n",
       "158  ...                              NaN                   NaN   \n",
       "382  ...                              NaN                   NaN   \n",
       "561  ...                              NaN                   NaN   \n",
       "687  ...                              NaN                   NaN   \n",
       "\n",
       "    officer_prosecuted_by_prosecutor_in_court special_prosecutor  \\\n",
       "132                                       NaN                NaN   \n",
       "158                                       NaN                NaN   \n",
       "382                                       NaN                NaN   \n",
       "561                                       NaN                NaN   \n",
       "687                                       NaN                NaN   \n",
       "\n",
       "    independent_investigation prosecutor_source_link killed_by_police_201324  \\\n",
       "132                       NaN                    NaN                       1   \n",
       "158                       NaN                    NaN                       1   \n",
       "382                       NaN                    NaN                       1   \n",
       "561                       NaN                    NaN                       1   \n",
       "687                       NaN                    NaN                       1   \n",
       "\n",
       "    age_group  year month  \n",
       "132     34-41  2024     4  \n",
       "158     34-41  2024     3  \n",
       "382       50+  2024     1  \n",
       "561       50+  2023    11  \n",
       "687     18-25  2023    10  \n",
       "\n",
       "[5 rows x 67 columns]"
      ]
     },
     "execution_count": 44,
     "metadata": {},
     "output_type": "execute_result"
    }
   ],
   "source": [
    "MIAMI = df.query('county == \"Miami-Dade\"')\n",
    "MIAMI.head(5)"
   ]
  },
  {
   "cell_type": "code",
   "execution_count": 45,
   "id": "c7b55773",
   "metadata": {
    "execution": {
     "iopub.execute_input": "2024-05-30T18:17:44.777451Z",
     "iopub.status.busy": "2024-05-30T18:17:44.776144Z",
     "iopub.status.idle": "2024-05-30T18:17:44.783558Z",
     "shell.execute_reply": "2024-05-30T18:17:44.782644Z"
    },
    "papermill": {
     "duration": 0.055707,
     "end_time": "2024-05-30T18:17:44.785985",
     "exception": false,
     "start_time": "2024-05-30T18:17:44.730278",
     "status": "completed"
    },
    "tags": []
   },
   "outputs": [
    {
     "data": {
      "text/plain": [
       "(118, 67)"
      ]
     },
     "execution_count": 45,
     "metadata": {},
     "output_type": "execute_result"
    }
   ],
   "source": [
    "MIAMI.shape"
   ]
  },
  {
   "cell_type": "code",
   "execution_count": 46,
   "id": "466c09fe",
   "metadata": {
    "execution": {
     "iopub.execute_input": "2024-05-30T18:17:44.878523Z",
     "iopub.status.busy": "2024-05-30T18:17:44.877335Z",
     "iopub.status.idle": "2024-05-30T18:17:44.887094Z",
     "shell.execute_reply": "2024-05-30T18:17:44.885636Z"
    },
    "papermill": {
     "duration": 0.059244,
     "end_time": "2024-05-30T18:17:44.889856",
     "exception": false,
     "start_time": "2024-05-30T18:17:44.830612",
     "status": "completed"
    },
    "tags": []
   },
   "outputs": [
    {
     "data": {
      "text/plain": [
       "victims_race\n",
       "Hispanic          43\n",
       "Black             41\n",
       "White             19\n",
       "Unknown race      12\n",
       "Black;Hispanic     3\n",
       "Name: count, dtype: int64"
      ]
     },
     "execution_count": 46,
     "metadata": {},
     "output_type": "execute_result"
    }
   ],
   "source": [
    "MIAMI['victims_race'].value_counts()"
   ]
  },
  {
   "cell_type": "code",
   "execution_count": 47,
   "id": "3a0b9749",
   "metadata": {
    "execution": {
     "iopub.execute_input": "2024-05-30T18:17:44.985238Z",
     "iopub.status.busy": "2024-05-30T18:17:44.984806Z",
     "iopub.status.idle": "2024-05-30T18:17:44.994493Z",
     "shell.execute_reply": "2024-05-30T18:17:44.993329Z"
    },
    "papermill": {
     "duration": 0.060819,
     "end_time": "2024-05-30T18:17:44.996841",
     "exception": false,
     "start_time": "2024-05-30T18:17:44.936022",
     "status": "completed"
    },
    "tags": []
   },
   "outputs": [
    {
     "data": {
      "text/plain": [
       "victims_race\n",
       "Hispanic          0.364407\n",
       "Black             0.347458\n",
       "White             0.161017\n",
       "Unknown race      0.101695\n",
       "Black;Hispanic    0.025424\n",
       "Name: proportion, dtype: float64"
      ]
     },
     "execution_count": 47,
     "metadata": {},
     "output_type": "execute_result"
    }
   ],
   "source": [
    "MIAMI['victims_race'].value_counts(normalize = True)"
   ]
  },
  {
   "cell_type": "code",
   "execution_count": 48,
   "id": "408808d1",
   "metadata": {
    "execution": {
     "iopub.execute_input": "2024-05-30T18:17:45.090306Z",
     "iopub.status.busy": "2024-05-30T18:17:45.089874Z",
     "iopub.status.idle": "2024-05-30T18:17:45.094561Z",
     "shell.execute_reply": "2024-05-30T18:17:45.093297Z"
    },
    "papermill": {
     "duration": 0.055326,
     "end_time": "2024-05-30T18:17:45.097130",
     "exception": false,
     "start_time": "2024-05-30T18:17:45.041804",
     "status": "completed"
    },
    "tags": []
   },
   "outputs": [],
   "source": [
    "# cannot get pd.read_clipboard() to work here \n",
    "\n",
    "#here is the racial breakdown of Miami, FL: \n",
    "\n",
    "#Historical racial composition\t2020[1]\t2010[8]\t2000[7]\t1990[6]\t1980[5]\n",
    "#Hispanic or Latino\t70.2%\t70.0%\t65.8%\t62.5%\t55.9%\n",
    "#White (non-Hispanic)\t14.0%\t11.9%\t11.8%\t12.2%\t19.4%\n",
    "#Black or African American (non-Hispanic)\t11.9%\t16.3%\t19.9%\t24.6%\t23.7%"
   ]
  },
  {
   "cell_type": "markdown",
   "id": "334cf6b7",
   "metadata": {
    "papermill": {
     "duration": 0.046576,
     "end_time": "2024-05-30T18:17:45.189240",
     "exception": false,
     "start_time": "2024-05-30T18:17:45.142664",
     "status": "completed"
    },
    "tags": []
   },
   "source": [
    "## -----------------------------------------------------------------\n",
    "\n",
    "## -----------------------------------------------------------------"
   ]
  },
  {
   "cell_type": "code",
   "execution_count": 49,
   "id": "6dbe6081",
   "metadata": {
    "execution": {
     "iopub.execute_input": "2024-05-30T18:17:45.282652Z",
     "iopub.status.busy": "2024-05-30T18:17:45.281535Z",
     "iopub.status.idle": "2024-05-30T18:17:45.291233Z",
     "shell.execute_reply": "2024-05-30T18:17:45.289892Z"
    },
    "papermill": {
     "duration": 0.059852,
     "end_time": "2024-05-30T18:17:45.293842",
     "exception": false,
     "start_time": "2024-05-30T18:17:45.233990",
     "status": "completed"
    },
    "tags": []
   },
   "outputs": [
    {
     "data": {
      "text/plain": [
       "5543"
      ]
     },
     "execution_count": 49,
     "metadata": {},
     "output_type": "execute_result"
    }
   ],
   "source": [
    "df['call_for_service'].isna().sum()"
   ]
  },
  {
   "cell_type": "code",
   "execution_count": 50,
   "id": "e39b3b37",
   "metadata": {
    "execution": {
     "iopub.execute_input": "2024-05-30T18:17:45.386070Z",
     "iopub.status.busy": "2024-05-30T18:17:45.385260Z",
     "iopub.status.idle": "2024-05-30T18:17:45.395347Z",
     "shell.execute_reply": "2024-05-30T18:17:45.394166Z"
    },
    "papermill": {
     "duration": 0.059142,
     "end_time": "2024-05-30T18:17:45.397935",
     "exception": false,
     "start_time": "2024-05-30T18:17:45.338793",
     "status": "completed"
    },
    "tags": []
   },
   "outputs": [
    {
     "data": {
      "text/plain": [
       "call_for_service\n",
       "Yes            4681\n",
       "No             2126\n",
       "Unavailable     391\n",
       "No               55\n",
       "yes               2\n",
       "Name: count, dtype: int64"
      ]
     },
     "execution_count": 50,
     "metadata": {},
     "output_type": "execute_result"
    }
   ],
   "source": [
    "#what amount of incidents were police called to the scene?\n",
    "df['call_for_service'].value_counts()"
   ]
  },
  {
   "cell_type": "code",
   "execution_count": 51,
   "id": "3e3bb333",
   "metadata": {
    "execution": {
     "iopub.execute_input": "2024-05-30T18:17:45.491588Z",
     "iopub.status.busy": "2024-05-30T18:17:45.490853Z",
     "iopub.status.idle": "2024-05-30T18:17:45.499702Z",
     "shell.execute_reply": "2024-05-30T18:17:45.498205Z"
    },
    "papermill": {
     "duration": 0.059322,
     "end_time": "2024-05-30T18:17:45.502441",
     "exception": false,
     "start_time": "2024-05-30T18:17:45.443119",
     "status": "completed"
    },
    "tags": []
   },
   "outputs": [],
   "source": [
    "df['call_for_service'] = df['call_for_service'].str.lower()"
   ]
  },
  {
   "cell_type": "code",
   "execution_count": 52,
   "id": "12de6e09",
   "metadata": {
    "execution": {
     "iopub.execute_input": "2024-05-30T18:17:45.595324Z",
     "iopub.status.busy": "2024-05-30T18:17:45.594874Z",
     "iopub.status.idle": "2024-05-30T18:17:45.607594Z",
     "shell.execute_reply": "2024-05-30T18:17:45.606354Z"
    },
    "papermill": {
     "duration": 0.062685,
     "end_time": "2024-05-30T18:17:45.610116",
     "exception": false,
     "start_time": "2024-05-30T18:17:45.547431",
     "status": "completed"
    },
    "tags": []
   },
   "outputs": [
    {
     "data": {
      "text/plain": [
       "call_for_service\n",
       "yes            64.548587\n",
       "no             29.303928\n",
       "unavailable     5.389387\n",
       "no              0.758098\n",
       "Name: proportion, dtype: float64"
      ]
     },
     "execution_count": 52,
     "metadata": {},
     "output_type": "execute_result"
    }
   ],
   "source": [
    "df['call_for_service'].value_counts(normalize = True) * 100"
   ]
  },
  {
   "cell_type": "markdown",
   "id": "b1c7f129",
   "metadata": {
    "papermill": {
     "duration": 0.045649,
     "end_time": "2024-05-30T18:17:45.702050",
     "exception": false,
     "start_time": "2024-05-30T18:17:45.656401",
     "status": "completed"
    },
    "tags": []
   },
   "source": [
    "## So for the records in which we have this information, police were called to the scene ~65% of the time\n"
   ]
  },
  {
   "cell_type": "markdown",
   "id": "1c5f0d18",
   "metadata": {
    "papermill": {
     "duration": 0.04461,
     "end_time": "2024-05-30T18:17:45.791763",
     "exception": false,
     "start_time": "2024-05-30T18:17:45.747153",
     "status": "completed"
    },
    "tags": []
   },
   "source": [
    "## -----------------------------------------------------------------\n",
    "\n",
    "## -----------------------------------------------------------------"
   ]
  },
  {
   "cell_type": "code",
   "execution_count": 53,
   "id": "09e73fb3",
   "metadata": {
    "execution": {
     "iopub.execute_input": "2024-05-30T18:17:45.885124Z",
     "iopub.status.busy": "2024-05-30T18:17:45.884661Z",
     "iopub.status.idle": "2024-05-30T18:17:45.894874Z",
     "shell.execute_reply": "2024-05-30T18:17:45.894085Z"
    },
    "papermill": {
     "duration": 0.059177,
     "end_time": "2024-05-30T18:17:45.896996",
     "exception": false,
     "start_time": "2024-05-30T18:17:45.837819",
     "status": "completed"
    },
    "tags": []
   },
   "outputs": [
    {
     "data": {
      "text/plain": [
       "armedunarmed_status\n",
       "Allegedly Armed                       9453\n",
       "Unarmed/Did Not Have Actual Weapon    1724\n",
       "Unclear                                843\n",
       "Vehicle                                778\n",
       "Name: count, dtype: int64"
      ]
     },
     "execution_count": 53,
     "metadata": {},
     "output_type": "execute_result"
    }
   ],
   "source": [
    "# lets take a look at what % of the victims were armed v unarmed\n",
    "df['armedunarmed_status'].value_counts()"
   ]
  },
  {
   "cell_type": "code",
   "execution_count": 54,
   "id": "69cfdfae",
   "metadata": {
    "execution": {
     "iopub.execute_input": "2024-05-30T18:17:45.990719Z",
     "iopub.status.busy": "2024-05-30T18:17:45.989915Z",
     "iopub.status.idle": "2024-05-30T18:17:46.001220Z",
     "shell.execute_reply": "2024-05-30T18:17:46.000004Z"
    },
    "papermill": {
     "duration": 0.060963,
     "end_time": "2024-05-30T18:17:46.003610",
     "exception": false,
     "start_time": "2024-05-30T18:17:45.942647",
     "status": "completed"
    },
    "tags": []
   },
   "outputs": [
    {
     "data": {
      "text/plain": [
       "armedunarmed_status\n",
       "Allegedly Armed                       0.738631\n",
       "Unarmed/Did Not Have Actual Weapon    0.134709\n",
       "Unclear                               0.065870\n",
       "Vehicle                               0.060791\n",
       "Name: proportion, dtype: float64"
      ]
     },
     "execution_count": 54,
     "metadata": {},
     "output_type": "execute_result"
    }
   ],
   "source": [
    "df['armedunarmed_status'].value_counts(normalize = True)"
   ]
  },
  {
   "cell_type": "markdown",
   "id": "1e727aa3",
   "metadata": {
    "papermill": {
     "duration": 0.046512,
     "end_time": "2024-05-30T18:17:46.095876",
     "exception": false,
     "start_time": "2024-05-30T18:17:46.049364",
     "status": "completed"
    },
    "tags": []
   },
   "source": [
    "## In a majority of cases, the victim was allegedly armed "
   ]
  },
  {
   "cell_type": "markdown",
   "id": "5fcdbbd0",
   "metadata": {
    "papermill": {
     "duration": 0.045394,
     "end_time": "2024-05-30T18:17:46.187343",
     "exception": false,
     "start_time": "2024-05-30T18:17:46.141949",
     "status": "completed"
    },
    "tags": []
   },
   "source": [
    "## -----------------------------------------------------------------\n",
    "\n",
    "## -----------------------------------------------------------------"
   ]
  },
  {
   "cell_type": "code",
   "execution_count": 55,
   "id": "52442da0",
   "metadata": {
    "execution": {
     "iopub.execute_input": "2024-05-30T18:17:46.283043Z",
     "iopub.status.busy": "2024-05-30T18:17:46.282236Z",
     "iopub.status.idle": "2024-05-30T18:17:46.292078Z",
     "shell.execute_reply": "2024-05-30T18:17:46.291064Z"
    },
    "papermill": {
     "duration": 0.060096,
     "end_time": "2024-05-30T18:17:46.294395",
     "exception": false,
     "start_time": "2024-05-30T18:17:46.234299",
     "status": "completed"
    },
    "tags": []
   },
   "outputs": [
    {
     "data": {
      "text/plain": [
       "fleeing\n",
       "Not Fleeing    6285\n",
       "Car            1724\n",
       "Foot           1364\n",
       "Other           218\n",
       "Car, Foot        98\n",
       "Not fleeing      88\n",
       "car               7\n",
       "foot              6\n",
       "car               4\n",
       "Foot, Car         2\n",
       "other             2\n",
       "Name: count, dtype: int64"
      ]
     },
     "execution_count": 55,
     "metadata": {},
     "output_type": "execute_result"
    }
   ],
   "source": [
    "#lets take a look at the fleeing column, as this is interesting. Typically people that are fleeing should not be being killed\n",
    "df['fleeing'].value_counts()"
   ]
  },
  {
   "cell_type": "code",
   "execution_count": 56,
   "id": "fc8ffe23",
   "metadata": {
    "execution": {
     "iopub.execute_input": "2024-05-30T18:17:46.388169Z",
     "iopub.status.busy": "2024-05-30T18:17:46.387392Z",
     "iopub.status.idle": "2024-05-30T18:17:46.395867Z",
     "shell.execute_reply": "2024-05-30T18:17:46.394779Z"
    },
    "papermill": {
     "duration": 0.058234,
     "end_time": "2024-05-30T18:17:46.398333",
     "exception": false,
     "start_time": "2024-05-30T18:17:46.340099",
     "status": "completed"
    },
    "tags": []
   },
   "outputs": [],
   "source": [
    "#this column has some values being seperated because the first letter is uppercase\n",
    "#lets fix \n",
    "df['fleeing'] = df['fleeing'].str.lower()"
   ]
  },
  {
   "cell_type": "code",
   "execution_count": 57,
   "id": "67bc4d93",
   "metadata": {
    "execution": {
     "iopub.execute_input": "2024-05-30T18:17:46.492836Z",
     "iopub.status.busy": "2024-05-30T18:17:46.492087Z",
     "iopub.status.idle": "2024-05-30T18:17:46.500918Z",
     "shell.execute_reply": "2024-05-30T18:17:46.500053Z"
    },
    "papermill": {
     "duration": 0.059041,
     "end_time": "2024-05-30T18:17:46.503511",
     "exception": false,
     "start_time": "2024-05-30T18:17:46.444470",
     "status": "completed"
    },
    "tags": []
   },
   "outputs": [],
   "source": [
    "#also it looks like some extra spaces in some of the options are causeing issues \n",
    "df['fleeing'] = df['fleeing'].str.strip()"
   ]
  },
  {
   "cell_type": "code",
   "execution_count": 58,
   "id": "6cea9d69",
   "metadata": {
    "execution": {
     "iopub.execute_input": "2024-05-30T18:17:46.602546Z",
     "iopub.status.busy": "2024-05-30T18:17:46.602131Z",
     "iopub.status.idle": "2024-05-30T18:17:46.613748Z",
     "shell.execute_reply": "2024-05-30T18:17:46.612926Z"
    },
    "papermill": {
     "duration": 0.066494,
     "end_time": "2024-05-30T18:17:46.615928",
     "exception": false,
     "start_time": "2024-05-30T18:17:46.549434",
     "status": "completed"
    },
    "tags": []
   },
   "outputs": [
    {
     "data": {
      "text/plain": [
       "fleeing\n",
       "not fleeing    6373\n",
       "car            1735\n",
       "foot           1370\n",
       "other           220\n",
       "car, foot        98\n",
       "foot, car         2\n",
       "Name: count, dtype: int64"
      ]
     },
     "execution_count": 58,
     "metadata": {},
     "output_type": "execute_result"
    }
   ],
   "source": [
    "df['fleeing'].value_counts()"
   ]
  },
  {
   "cell_type": "code",
   "execution_count": 59,
   "id": "731ff66c",
   "metadata": {
    "execution": {
     "iopub.execute_input": "2024-05-30T18:17:46.712892Z",
     "iopub.status.busy": "2024-05-30T18:17:46.711733Z",
     "iopub.status.idle": "2024-05-30T18:17:46.723522Z",
     "shell.execute_reply": "2024-05-30T18:17:46.722148Z"
    },
    "papermill": {
     "duration": 0.063204,
     "end_time": "2024-05-30T18:17:46.726303",
     "exception": false,
     "start_time": "2024-05-30T18:17:46.663099",
     "status": "completed"
    },
    "tags": []
   },
   "outputs": [
    {
     "data": {
      "text/plain": [
       "fleeing\n",
       "not fleeing    0.650439\n",
       "car            0.177077\n",
       "foot           0.139824\n",
       "other          0.022454\n",
       "car, foot      0.010002\n",
       "foot, car      0.000204\n",
       "Name: proportion, dtype: float64"
      ]
     },
     "execution_count": 59,
     "metadata": {},
     "output_type": "execute_result"
    }
   ],
   "source": [
    "df['fleeing'].value_counts(normalize = True )"
   ]
  },
  {
   "cell_type": "code",
   "execution_count": 60,
   "id": "5d0bd0ce",
   "metadata": {
    "execution": {
     "iopub.execute_input": "2024-05-30T18:17:46.820477Z",
     "iopub.status.busy": "2024-05-30T18:17:46.819733Z",
     "iopub.status.idle": "2024-05-30T18:17:47.084680Z",
     "shell.execute_reply": "2024-05-30T18:17:47.083425Z"
    },
    "papermill": {
     "duration": 0.31532,
     "end_time": "2024-05-30T18:17:47.087732",
     "exception": false,
     "start_time": "2024-05-30T18:17:46.772412",
     "status": "completed"
    },
    "tags": []
   },
   "outputs": [
    {
     "data": {
      "text/plain": [
       "<Axes: xlabel='fleeing'>"
      ]
     },
     "execution_count": 60,
     "metadata": {},
     "output_type": "execute_result"
    },
    {
     "data": {
      "image/png": "[encoded data removed]",
      "text/plain": [
       "<Figure size 640x480 with 1 Axes>"
      ]
     },
     "metadata": {},
     "output_type": "display_data"
    }
   ],
   "source": [
    "df['fleeing'].value_counts().head(4).plot(kind = 'bar')"
   ]
  },
  {
   "cell_type": "code",
   "execution_count": 61,
   "id": "de3aa649",
   "metadata": {
    "execution": {
     "iopub.execute_input": "2024-05-30T18:17:47.183594Z",
     "iopub.status.busy": "2024-05-30T18:17:47.183203Z",
     "iopub.status.idle": "2024-05-30T18:17:47.192411Z",
     "shell.execute_reply": "2024-05-30T18:17:47.191224Z"
    },
    "papermill": {
     "duration": 0.059998,
     "end_time": "2024-05-30T18:17:47.195093",
     "exception": false,
     "start_time": "2024-05-30T18:17:47.135095",
     "status": "completed"
    },
    "tags": []
   },
   "outputs": [
    {
     "data": {
      "text/plain": [
       "3000"
      ]
     },
     "execution_count": 61,
     "metadata": {},
     "output_type": "execute_result"
    }
   ],
   "source": [
    "df['fleeing'].isna().sum()"
   ]
  },
  {
   "cell_type": "markdown",
   "id": "b03e0549",
   "metadata": {
    "papermill": {
     "duration": 0.046274,
     "end_time": "2024-05-30T18:17:47.288222",
     "exception": false,
     "start_time": "2024-05-30T18:17:47.241948",
     "status": "completed"
    },
    "tags": []
   },
   "source": [
    "## A large majority of victims were not fleeing\n",
    "\n",
    "## Lets look into those who were fleeing by foot. Why kill someone who is running away?"
   ]
  },
  {
   "cell_type": "code",
   "execution_count": 62,
   "id": "6a7bb2df",
   "metadata": {
    "execution": {
     "iopub.execute_input": "2024-05-30T18:17:47.383692Z",
     "iopub.status.busy": "2024-05-30T18:17:47.383295Z",
     "iopub.status.idle": "2024-05-30T18:17:47.412557Z",
     "shell.execute_reply": "2024-05-30T18:17:47.411355Z"
    },
    "papermill": {
     "duration": 0.080958,
     "end_time": "2024-05-30T18:17:47.415719",
     "exception": false,
     "start_time": "2024-05-30T18:17:47.334761",
     "status": "completed"
    },
    "tags": []
   },
   "outputs": [],
   "source": [
    "FLEEING = df.query('fleeing == \"foot\"').copy()"
   ]
  },
  {
   "cell_type": "code",
   "execution_count": 63,
   "id": "8b9ec56d",
   "metadata": {
    "execution": {
     "iopub.execute_input": "2024-05-30T18:17:47.513993Z",
     "iopub.status.busy": "2024-05-30T18:17:47.513547Z",
     "iopub.status.idle": "2024-05-30T18:17:47.523677Z",
     "shell.execute_reply": "2024-05-30T18:17:47.522107Z"
    },
    "papermill": {
     "duration": 0.061134,
     "end_time": "2024-05-30T18:17:47.526339",
     "exception": false,
     "start_time": "2024-05-30T18:17:47.465205",
     "status": "completed"
    },
    "tags": []
   },
   "outputs": [
    {
     "data": {
      "text/plain": [
       "victims_race\n",
       "Black               496\n",
       "White               457\n",
       "Hispanic            282\n",
       "Unknown race         78\n",
       "Native American      26\n",
       "Asian                20\n",
       "Black;Hispanic        7\n",
       "Pacific Islander      4\n",
       "Name: count, dtype: int64"
      ]
     },
     "execution_count": 63,
     "metadata": {},
     "output_type": "execute_result"
    }
   ],
   "source": [
    "FLEEING['victims_race'].value_counts()"
   ]
  },
  {
   "cell_type": "code",
   "execution_count": 64,
   "id": "c4c0e213",
   "metadata": {
    "execution": {
     "iopub.execute_input": "2024-05-30T18:17:47.623502Z",
     "iopub.status.busy": "2024-05-30T18:17:47.622450Z",
     "iopub.status.idle": "2024-05-30T18:17:47.632539Z",
     "shell.execute_reply": "2024-05-30T18:17:47.631626Z"
    },
    "papermill": {
     "duration": 0.06089,
     "end_time": "2024-05-30T18:17:47.634858",
     "exception": false,
     "start_time": "2024-05-30T18:17:47.573968",
     "status": "completed"
    },
    "tags": []
   },
   "outputs": [
    {
     "data": {
      "text/plain": [
       "victims_race\n",
       "Black               0.362044\n",
       "White               0.333577\n",
       "Hispanic            0.205839\n",
       "Unknown race        0.056934\n",
       "Native American     0.018978\n",
       "Asian               0.014599\n",
       "Black;Hispanic      0.005109\n",
       "Pacific Islander    0.002920\n",
       "Name: proportion, dtype: float64"
      ]
     },
     "execution_count": 64,
     "metadata": {},
     "output_type": "execute_result"
    }
   ],
   "source": [
    "FLEEING['victims_race'].value_counts(normalize = True)"
   ]
  },
  {
   "cell_type": "code",
   "execution_count": 65,
   "id": "d82b2dc8",
   "metadata": {
    "execution": {
     "iopub.execute_input": "2024-05-30T18:17:47.731600Z",
     "iopub.status.busy": "2024-05-30T18:17:47.731195Z",
     "iopub.status.idle": "2024-05-30T18:17:47.759582Z",
     "shell.execute_reply": "2024-05-30T18:17:47.758367Z"
    },
    "papermill": {
     "duration": 0.079924,
     "end_time": "2024-05-30T18:17:47.762200",
     "exception": false,
     "start_time": "2024-05-30T18:17:47.682276",
     "status": "completed"
    },
    "tags": []
   },
   "outputs": [
    {
     "data": {
      "text/plain": [
       "victims_race\n",
       "Black               0.367347\n",
       "White               0.341108\n",
       "Hispanic            0.192420\n",
       "Unknown race        0.061224\n",
       "Native American     0.016521\n",
       "Asian               0.013605\n",
       "Pacific Islander    0.003887\n",
       "Black;Hispanic      0.003887\n",
       "Name: proportion, dtype: float64"
      ]
     },
     "execution_count": 65,
     "metadata": {},
     "output_type": "execute_result"
    }
   ],
   "source": [
    "FLEEING.query('weapon == \"gun\" or weapon == \"knife\"')['victims_race'].value_counts(normalize = True)"
   ]
  },
  {
   "cell_type": "code",
   "execution_count": 66,
   "id": "b53cd33a",
   "metadata": {
    "execution": {
     "iopub.execute_input": "2024-05-30T18:17:47.859538Z",
     "iopub.status.busy": "2024-05-30T18:17:47.858663Z",
     "iopub.status.idle": "2024-05-30T18:17:47.883084Z",
     "shell.execute_reply": "2024-05-30T18:17:47.881619Z"
    },
    "papermill": {
     "duration": 0.075835,
     "end_time": "2024-05-30T18:17:47.885550",
     "exception": false,
     "start_time": "2024-05-30T18:17:47.809715",
     "status": "completed"
    },
    "tags": []
   },
   "outputs": [
    {
     "data": {
      "text/plain": [
       "victims_race\n",
       "Black              0.421687\n",
       "White              0.259036\n",
       "Hispanic           0.253012\n",
       "Unknown race       0.018072\n",
       "Asian              0.018072\n",
       "Native American    0.018072\n",
       "Black;Hispanic     0.012048\n",
       "Name: proportion, dtype: float64"
      ]
     },
     "execution_count": 66,
     "metadata": {},
     "output_type": "execute_result"
    }
   ],
   "source": [
    "FLEEING.query('weapon == \"no object\"')['victims_race'].value_counts(normalize = True)"
   ]
  },
  {
   "cell_type": "code",
   "execution_count": 67,
   "id": "15b0b85a",
   "metadata": {
    "execution": {
     "iopub.execute_input": "2024-05-30T18:17:47.986438Z",
     "iopub.status.busy": "2024-05-30T18:17:47.985610Z",
     "iopub.status.idle": "2024-05-30T18:17:48.009140Z",
     "shell.execute_reply": "2024-05-30T18:17:48.008193Z"
    },
    "papermill": {
     "duration": 0.077752,
     "end_time": "2024-05-30T18:17:48.012219",
     "exception": false,
     "start_time": "2024-05-30T18:17:47.934467",
     "status": "completed"
    },
    "tags": []
   },
   "outputs": [
    {
     "data": {
      "text/plain": [
       "victims_race\n",
       "Black       70\n",
       "White       43\n",
       "Hispanic    42\n",
       "Name: count, dtype: int64"
      ]
     },
     "execution_count": 67,
     "metadata": {},
     "output_type": "execute_result"
    }
   ],
   "source": [
    "FLEEING.query('weapon == \"no object\"')['victims_race'].value_counts().head(3)"
   ]
  },
  {
   "cell_type": "markdown",
   "id": "3e34868a",
   "metadata": {
    "papermill": {
     "duration": 0.047886,
     "end_time": "2024-05-30T18:17:48.108824",
     "exception": false,
     "start_time": "2024-05-30T18:17:48.060938",
     "status": "completed"
    },
    "tags": []
   },
   "source": [
    "## So it looks like although blacks make up 25% of the overall data, they actually make up 36% of the killed while fleeing data. \n",
    "\n",
    "## They were proportionatly likely to have a gun or knife while killed during fleeing\n",
    "\n",
    "## They were by far the most likely to be killed while fleeing with no weapon, but this is a small sample size \n"
   ]
  },
  {
   "cell_type": "code",
   "execution_count": 68,
   "id": "1244afe8",
   "metadata": {
    "execution": {
     "iopub.execute_input": "2024-05-30T18:17:48.206356Z",
     "iopub.status.busy": "2024-05-30T18:17:48.205955Z",
     "iopub.status.idle": "2024-05-30T18:17:48.216183Z",
     "shell.execute_reply": "2024-05-30T18:17:48.214972Z"
    },
    "papermill": {
     "duration": 0.062459,
     "end_time": "2024-05-30T18:17:48.219066",
     "exception": false,
     "start_time": "2024-05-30T18:17:48.156607",
     "status": "completed"
    },
    "tags": []
   },
   "outputs": [
    {
     "data": {
      "text/plain": [
       "weapon\n",
       "gun                   884\n",
       "no object             166\n",
       "knife                 145\n",
       "toy weapon             46\n",
       "undetermined           40\n",
       "vehicle                10\n",
       "unknown weapon          7\n",
       "machete                 6\n",
       "taser                   5\n",
       "sword                   4\n",
       "sharp object            4\n",
       "screwdriver             4\n",
       "gun, vehicle            3\n",
       "rock                    3\n",
       "hammer                  2\n",
       "brick                   2\n",
       "metal pipe              2\n",
       "axe                     2\n",
       "gun, knife              2\n",
       "pipe                    2\n",
       "shovel                  1\n",
       "baseball bat            1\n",
       "walking stick           1\n",
       "knife, vehicle          1\n",
       "metal object            1\n",
       "box cutter              1\n",
       "pick-axe                1\n",
       "baton                   1\n",
       "gun, hatchet            1\n",
       "hand torch              1\n",
       "Stapler                 1\n",
       "gun, explosives         1\n",
       "windshield wiper        1\n",
       "knife, machete          1\n",
       "tire iron               1\n",
       "knife; screwdriver      1\n",
       "box                     1\n",
       "blunt object            1\n",
       "grenade                 1\n",
       "scissors                1\n",
       "unclear                 1\n",
       "nail clipper            1\n",
       "garden claw             1\n",
       "hatchet                 1\n",
       "gun, sharp object       1\n",
       "tools                   1\n",
       "knife, toy weapon       1\n",
       "hatchet, hammer         1\n",
       "piece of wood           1\n",
       "lighter                 1\n",
       "meat cleaver            1\n",
       "Name: count, dtype: int64"
      ]
     },
     "execution_count": 68,
     "metadata": {},
     "output_type": "execute_result"
    }
   ],
   "source": [
    "FLEEING['weapon'].value_counts()"
   ]
  },
  {
   "cell_type": "markdown",
   "id": "30a7dad4",
   "metadata": {
    "papermill": {
     "duration": 0.110736,
     "end_time": "2024-05-30T18:17:48.380598",
     "exception": false,
     "start_time": "2024-05-30T18:17:48.269862",
     "status": "completed"
    },
    "tags": []
   },
   "source": [
    "## A large majority of the people fleeing had a gun or knife, and could be a danger to the public \n",
    "\n",
    "## On a side note, killed while fleeing and the weapon listed was a stapler?? Lets take a closer look"
   ]
  },
  {
   "cell_type": "code",
   "execution_count": 69,
   "id": "b4d491f2",
   "metadata": {
    "execution": {
     "iopub.execute_input": "2024-05-30T18:17:48.479760Z",
     "iopub.status.busy": "2024-05-30T18:17:48.478535Z",
     "iopub.status.idle": "2024-05-30T18:17:48.501784Z",
     "shell.execute_reply": "2024-05-30T18:17:48.500572Z"
    },
    "papermill": {
     "duration": 0.075499,
     "end_time": "2024-05-30T18:17:48.504221",
     "exception": false,
     "start_time": "2024-05-30T18:17:48.428722",
     "status": "completed"
    },
    "tags": []
   },
   "outputs": [
    {
     "data": {
      "text/plain": [
       "9887    Fuller fled the area after officers responded to reports of suspicious activity, police said. When police caught up with Fuller, a deputy shot him after he raised his right hand holding what the deputy thought was a gun, according to authorities. Police later learned Fuller was holding a stapler.\n",
       "Name: media_description_of_the_circumstances_surrounding_the_death, dtype: object"
      ]
     },
     "execution_count": 69,
     "metadata": {},
     "output_type": "execute_result"
    }
   ],
   "source": [
    "pd.set_option('display.max_colwidth', None)\n",
    "FLEEING.query('weapon == \"Stapler\"')['media_description_of_the_circumstances_surrounding_the_death']"
   ]
  },
  {
   "cell_type": "code",
   "execution_count": 70,
   "id": "59f4d062",
   "metadata": {
    "execution": {
     "iopub.execute_input": "2024-05-30T18:17:48.604708Z",
     "iopub.status.busy": "2024-05-30T18:17:48.604031Z",
     "iopub.status.idle": "2024-05-30T18:17:48.626765Z",
     "shell.execute_reply": "2024-05-30T18:17:48.625180Z"
    },
    "papermill": {
     "duration": 0.076053,
     "end_time": "2024-05-30T18:17:48.629663",
     "exception": false,
     "start_time": "2024-05-30T18:17:48.553610",
     "status": "completed"
    },
    "tags": []
   },
   "outputs": [
    {
     "data": {
      "text/plain": [
       "5975    Police contacted Henry Lane shortly after midnight for unspecified reasons. Red Bluff Cpl. Stephen Harper shot and killed him when Lane threatened officers with a stick.\n",
       "Name: media_description_of_the_circumstances_surrounding_the_death, dtype: object"
      ]
     },
     "execution_count": 70,
     "metadata": {},
     "output_type": "execute_result"
    }
   ],
   "source": [
    "FLEEING.query('weapon == \"walking stick\"')['media_description_of_the_circumstances_surrounding_the_death']"
   ]
  },
  {
   "cell_type": "code",
   "execution_count": 71,
   "id": "981123dd",
   "metadata": {
    "execution": {
     "iopub.execute_input": "2024-05-30T18:17:48.731035Z",
     "iopub.status.busy": "2024-05-30T18:17:48.730607Z",
     "iopub.status.idle": "2024-05-30T18:17:48.755458Z",
     "shell.execute_reply": "2024-05-30T18:17:48.754530Z"
    },
    "papermill": {
     "duration": 0.078444,
     "end_time": "2024-05-30T18:17:48.757846",
     "exception": false,
     "start_time": "2024-05-30T18:17:48.679402",
     "status": "completed"
    },
    "tags": []
   },
   "outputs": [
    {
     "data": {
      "text/plain": [
       "4876    At around 3:45 a.m., a call was made to police reporting someone destroying property and throwing rocks in the neighborhood. Police said, a man entered one home and struck an occupant on the shoulder with a metal object before fleeing. When officers arrived, the man ran away toward the MiraCosta College campus. When police contacted the man, he refused to comply with the officers and attempted to attack them with a windshield wiper. Police tasered the man, killing him.\n",
       "Name: media_description_of_the_circumstances_surrounding_the_death, dtype: object"
      ]
     },
     "execution_count": 71,
     "metadata": {},
     "output_type": "execute_result"
    }
   ],
   "source": [
    "FLEEING.query('weapon == \"windshield wiper\"')['media_description_of_the_circumstances_surrounding_the_death']"
   ]
  },
  {
   "cell_type": "code",
   "execution_count": 72,
   "id": "1b8d6539",
   "metadata": {
    "execution": {
     "iopub.execute_input": "2024-05-30T18:17:48.858199Z",
     "iopub.status.busy": "2024-05-30T18:17:48.857718Z",
     "iopub.status.idle": "2024-05-30T18:17:48.881451Z",
     "shell.execute_reply": "2024-05-30T18:17:48.879804Z"
    },
    "papermill": {
     "duration": 0.077467,
     "end_time": "2024-05-30T18:17:48.884356",
     "exception": false,
     "start_time": "2024-05-30T18:17:48.806889",
     "status": "completed"
    },
    "tags": []
   },
   "outputs": [
    {
     "data": {
      "text/plain": [
       "168    A 57-year-old Tustin man walked into a Wells Fargo branch in Fullerton wearing a mask and carrying a white box and told a teller he had a bomb, then walked out with the box and stolen money on Tuesday evening, March 26, authorities said, before police fatally shot him. He had a fax machine in the box.\n",
       "Name: media_description_of_the_circumstances_surrounding_the_death, dtype: object"
      ]
     },
     "execution_count": 72,
     "metadata": {},
     "output_type": "execute_result"
    }
   ],
   "source": [
    "FLEEING.query('weapon == \"box\"')['media_description_of_the_circumstances_surrounding_the_death']"
   ]
  },
  {
   "cell_type": "code",
   "execution_count": 73,
   "id": "7929b6dc",
   "metadata": {
    "execution": {
     "iopub.execute_input": "2024-05-30T18:17:48.986346Z",
     "iopub.status.busy": "2024-05-30T18:17:48.985672Z",
     "iopub.status.idle": "2024-05-30T18:17:48.991387Z",
     "shell.execute_reply": "2024-05-30T18:17:48.989998Z"
    },
    "papermill": {
     "duration": 0.059702,
     "end_time": "2024-05-30T18:17:48.994036",
     "exception": false,
     "start_time": "2024-05-30T18:17:48.934334",
     "status": "completed"
    },
    "tags": []
   },
   "outputs": [],
   "source": [
    "pd.set_option('display.max_colwidth', 50)"
   ]
  },
  {
   "cell_type": "markdown",
   "id": "5cb7bd4b",
   "metadata": {
    "papermill": {
     "duration": 0.048806,
     "end_time": "2024-05-30T18:17:49.093419",
     "exception": false,
     "start_time": "2024-05-30T18:17:49.044613",
     "status": "completed"
    },
    "tags": []
   },
   "source": [
    "## -----------------------------------------------------------------\n",
    "\n",
    "## -----------------------------------------------------------------"
   ]
  },
  {
   "cell_type": "markdown",
   "id": "6028f4db",
   "metadata": {
    "papermill": {
     "duration": 0.049279,
     "end_time": "2024-05-30T18:17:49.193050",
     "exception": false,
     "start_time": "2024-05-30T18:17:49.143771",
     "status": "completed"
    },
    "tags": []
   },
   "source": [
    "## I am interested in reading some of the reports of what actually happened during these events. This may help us to better understand the circumstances of these events. Below I will show the media report describing 5 randomly selected records"
   ]
  },
  {
   "cell_type": "code",
   "execution_count": 74,
   "id": "66b26e47",
   "metadata": {
    "execution": {
     "iopub.execute_input": "2024-05-30T18:17:49.292359Z",
     "iopub.status.busy": "2024-05-30T18:17:49.291089Z",
     "iopub.status.idle": "2024-05-30T18:17:49.301745Z",
     "shell.execute_reply": "2024-05-30T18:17:49.300814Z"
    },
    "papermill": {
     "duration": 0.062352,
     "end_time": "2024-05-30T18:17:49.303961",
     "exception": false,
     "start_time": "2024-05-30T18:17:49.241609",
     "status": "completed"
    },
    "tags": []
   },
   "outputs": [
    {
     "data": {
      "text/plain": [
       "0        A news release Friday said officers were dispa...\n",
       "1        Police were called out to Crawford Avenue just...\n",
       "2        According to SLMPD’s preliminary findings, an ...\n",
       "3        Memphis Police officers responded to a domesti...\n",
       "4        A KCKPD officer arrived and observed three peo...\n",
       "                               ...                        \n",
       "12793    Omaha Police Department responded to a 911 dom...\n",
       "12794    Officers responded to reports of gunshots at a...\n",
       "12795    Christopher was with two others in a car. Pueb...\n",
       "12796    Deputies responded to a 911 call of shots fire...\n",
       "12797    Former combat medic Layton was found unconscio...\n",
       "Name: media_description_of_the_circumstances_surrounding_the_death, Length: 12798, dtype: object"
      ]
     },
     "execution_count": 74,
     "metadata": {},
     "output_type": "execute_result"
    }
   ],
   "source": [
    "df['media_description_of_the_circumstances_surrounding_the_death']"
   ]
  },
  {
   "cell_type": "code",
   "execution_count": 75,
   "id": "bf9cb7b3",
   "metadata": {
    "execution": {
     "iopub.execute_input": "2024-05-30T18:17:49.404835Z",
     "iopub.status.busy": "2024-05-30T18:17:49.404085Z",
     "iopub.status.idle": "2024-05-30T18:17:49.415166Z",
     "shell.execute_reply": "2024-05-30T18:17:49.413989Z"
    },
    "papermill": {
     "duration": 0.064504,
     "end_time": "2024-05-30T18:17:49.417673",
     "exception": false,
     "start_time": "2024-05-30T18:17:49.353169",
     "status": "completed"
    },
    "tags": []
   },
   "outputs": [
    {
     "name": "stdout",
     "output_type": "stream",
     "text": [
      "                                                                                                                                                                                                                                                                                                                                                                                                                                                                                                                           media_description_of_the_circumstances_surrounding_the_death\n",
      "11632                                                                                                                                                                                                                                                                                                                                                                                                                                                                                                                        Sams was tasered by police during a domestic dispute call.\n",
      "10584                                                                                                                                                                                                                                                                                                                                                                Trying to apprehend Muna, the subject escaped in a vehicle with a friend. Police pinned his car making it unable for him to escape. He brandished a weapon and was shot dead by at least three different officers.\n",
      "11638                                  An off-duty Chicago police officer fatally shot a robbery subject at a Walgreens store. The officer walked into the store to use the ATM machine. The officer became suspicious when he saw a female employee frantically stashing money in a bag behind the counter while a large man stood in front of the register. The officer walked toward the man, identified himself as an officer and asked the man to get down. There was a struggle, and the officer discharged his weapon. Police recovered a semi-automatic handgun from the scene.\n",
      "5507                                                                                                                                                                                                           Police were conducting a surveillance operation and investigating a vehicle believed to be involved in a series of armed robberies. Jordan Michael Griffin was confronted by officers after he exited the vehicle and entered a 7-Eleven. Officers opened fire when Griffin failed to comply with their commands. Griffin was allegedly holding a replica C02 BB pistol.\n",
      "7865   Police received a call from a child who reported their father had broken into a Los Banos apartment through a window, police said. When the first officer arrived, he met the man's children, who directed him to the apartment. The officer attempted to convince the man to step outside so the two could speak further, but the man was argumentative and would not comply. The man and the officer fought, and the officer used a Taser, but the man removed the electrical probes. A second officer arrived, but another struggle erupted, and the man was shot and killed.\n"
     ]
    }
   ],
   "source": [
    "#lets expand the column so we can read everything inside \n",
    "pd.set_option('display.max_colwidth', None)\n",
    "\n",
    "# Now when you display the DataFrame, it will show the entire text of the 'summary' column\n",
    "print(df[['media_description_of_the_circumstances_surrounding_the_death']].sample(5))"
   ]
  },
  {
   "cell_type": "code",
   "execution_count": 76,
   "id": "a461ee52",
   "metadata": {
    "execution": {
     "iopub.execute_input": "2024-05-30T18:17:49.521885Z",
     "iopub.status.busy": "2024-05-30T18:17:49.521432Z",
     "iopub.status.idle": "2024-05-30T18:17:49.526363Z",
     "shell.execute_reply": "2024-05-30T18:17:49.525380Z"
    },
    "papermill": {
     "duration": 0.061444,
     "end_time": "2024-05-30T18:17:49.528776",
     "exception": false,
     "start_time": "2024-05-30T18:17:49.467332",
     "status": "completed"
    },
    "tags": []
   },
   "outputs": [],
   "source": [
    "pd.set_option('display.max_colwidth', 50)"
   ]
  },
  {
   "cell_type": "markdown",
   "id": "21d7bc80",
   "metadata": {
    "papermill": {
     "duration": 0.048548,
     "end_time": "2024-05-30T18:17:49.626479",
     "exception": false,
     "start_time": "2024-05-30T18:17:49.577931",
     "status": "completed"
    },
    "tags": []
   },
   "source": [
    "## -----------------------------------------------------------------\n",
    "\n",
    "## -----------------------------------------------------------------"
   ]
  },
  {
   "cell_type": "markdown",
   "id": "38ee9d66",
   "metadata": {
    "papermill": {
     "duration": 0.05031,
     "end_time": "2024-05-30T18:17:49.725696",
     "exception": false,
     "start_time": "2024-05-30T18:17:49.675386",
     "status": "completed"
    },
    "tags": []
   },
   "source": [
    "## The encounter type column gives us some information on why police were called to the scene in the first place, this will help us understand more context of the situations "
   ]
  },
  {
   "cell_type": "code",
   "execution_count": 77,
   "id": "9ab824ee",
   "metadata": {
    "execution": {
     "iopub.execute_input": "2024-05-30T18:17:49.829285Z",
     "iopub.status.busy": "2024-05-30T18:17:49.828609Z",
     "iopub.status.idle": "2024-05-30T18:17:49.845345Z",
     "shell.execute_reply": "2024-05-30T18:17:49.843843Z"
    },
    "papermill": {
     "duration": 0.071209,
     "end_time": "2024-05-30T18:17:49.848953",
     "exception": false,
     "start_time": "2024-05-30T18:17:49.777744",
     "status": "completed"
    },
    "tags": []
   },
   "outputs": [
    {
     "data": {
      "text/plain": [
       "encounter_type\n",
       "Part 1 Violent Crime                                2123\n",
       "Other Non-Violent Offense                           1519\n",
       "Mental Health/Welfare Check                          818\n",
       "Domestic Disturbance                                 789\n",
       "None/Unknown                                         647\n",
       "Traffic Stop                                         642\n",
       "Person with a Weapon                                 576\n",
       "Other Crimes Against People                          311\n",
       "Part 1 Violent Crime/Domestic Disturbance            268\n",
       "Other Crimes Against People/Domestic Disturbance     147\n",
       "Traffic stop                                         131\n",
       "Traffic Stop/Other Non-Violent Offense               129\n",
       "Part 1 Violent Crime/Domestic disturbance             73\n",
       "Person with a weapon                                  62\n",
       "Part 1 Violent Crime/Traffic Stop                     50\n",
       "Person with a Weapon/Mental Health/Welfare Check      45\n",
       "Domestic disturbance                                  39\n",
       "Part 1 Violent Crime/Mental Health/Welfare Check      30\n",
       "Traffic stop/Other Non-Violent Offense                30\n",
       "Person with a Weapon/Domestic Disturbance             29\n",
       "Mental Health/Welfare Check/Domestic Disturbance      17\n",
       "Part 1 Violent Crime/Traffic stop                      6\n",
       "Person with a Weapon/Domestic disturbance              5\n",
       "Person with a Weapon/Traffic Stop                      5\n",
       "Part 1 VIolent Crime                                   5\n",
       "Other Non-Violent Offense/Traffic Stop                 4\n",
       "Mental Heatlh/Welfare Check                            3\n",
       "Other Crimes Against People/Domestic disturbance       3\n",
       "Person with a weapon/Domestic disturbance              2\n",
       "Part 1 Violent Crime/Person with a Weapon              1\n",
       "Domestic Disturbance/Other Non-Violent Offense         1\n",
       "Other Non-Violent offense                              1\n",
       "Other Crimes Against People/Traffic Stop               1\n",
       "Traffic Stop/Mental Health/Welfare Check               1\n",
       "Part 1 Violent Crime/Other Non-Violent Offense         1\n",
       "Part1 Violent Crime/Domestic Disturbance               1\n",
       "Other Non-Violenr Offense                              1\n",
       "Part 1 Violent Crime                                   1\n",
       "Name: count, dtype: int64"
      ]
     },
     "execution_count": 77,
     "metadata": {},
     "output_type": "execute_result"
    }
   ],
   "source": [
    "df['encounter_type'].value_counts()"
   ]
  },
  {
   "cell_type": "code",
   "execution_count": 78,
   "id": "1519ebf4",
   "metadata": {
    "execution": {
     "iopub.execute_input": "2024-05-30T18:17:49.967473Z",
     "iopub.status.busy": "2024-05-30T18:17:49.966114Z",
     "iopub.status.idle": "2024-05-30T18:17:49.977386Z",
     "shell.execute_reply": "2024-05-30T18:17:49.976349Z"
    },
    "papermill": {
     "duration": 0.070206,
     "end_time": "2024-05-30T18:17:49.979755",
     "exception": false,
     "start_time": "2024-05-30T18:17:49.909549",
     "status": "completed"
    },
    "tags": []
   },
   "outputs": [
    {
     "data": {
      "text/plain": [
       "encounter_type\n",
       "Part 1 Violent Crime           0.249266\n",
       "Other Non-Violent Offense      0.178349\n",
       "Mental Health/Welfare Check    0.096043\n",
       "Domestic Disturbance           0.092638\n",
       "None/Unknown                   0.075966\n",
       "Name: proportion, dtype: float64"
      ]
     },
     "execution_count": 78,
     "metadata": {},
     "output_type": "execute_result"
    }
   ],
   "source": [
    "df['encounter_type'].value_counts(normalize = True).head(5)"
   ]
  },
  {
   "cell_type": "code",
   "execution_count": 79,
   "id": "5745c015",
   "metadata": {
    "execution": {
     "iopub.execute_input": "2024-05-30T18:17:50.080375Z",
     "iopub.status.busy": "2024-05-30T18:17:50.079974Z",
     "iopub.status.idle": "2024-05-30T18:17:50.098493Z",
     "shell.execute_reply": "2024-05-30T18:17:50.097593Z"
    },
    "papermill": {
     "duration": 0.072141,
     "end_time": "2024-05-30T18:17:50.101136",
     "exception": false,
     "start_time": "2024-05-30T18:17:50.028995",
     "status": "completed"
    },
    "tags": []
   },
   "outputs": [],
   "source": [
    "#lets clean up this column so we can actually use it for analysis \n",
    "df['encounter_type'] = df['encounter_type'].str.split(pat = '/').str[0]"
   ]
  },
  {
   "cell_type": "code",
   "execution_count": 80,
   "id": "62acabee",
   "metadata": {
    "execution": {
     "iopub.execute_input": "2024-05-30T18:17:50.207246Z",
     "iopub.status.busy": "2024-05-30T18:17:50.206431Z",
     "iopub.status.idle": "2024-05-30T18:17:50.215080Z",
     "shell.execute_reply": "2024-05-30T18:17:50.214083Z"
    },
    "papermill": {
     "duration": 0.064323,
     "end_time": "2024-05-30T18:17:50.217636",
     "exception": false,
     "start_time": "2024-05-30T18:17:50.153313",
     "status": "completed"
    },
    "tags": []
   },
   "outputs": [],
   "source": [
    "df['encounter_type'] = df['encounter_type'].str.lower()"
   ]
  },
  {
   "cell_type": "code",
   "execution_count": 81,
   "id": "82104c56",
   "metadata": {
    "execution": {
     "iopub.execute_input": "2024-05-30T18:17:50.321795Z",
     "iopub.status.busy": "2024-05-30T18:17:50.321034Z",
     "iopub.status.idle": "2024-05-30T18:17:50.332450Z",
     "shell.execute_reply": "2024-05-30T18:17:50.331004Z"
    },
    "papermill": {
     "duration": 0.06673,
     "end_time": "2024-05-30T18:17:50.334987",
     "exception": false,
     "start_time": "2024-05-30T18:17:50.268257",
     "status": "completed"
    },
    "tags": []
   },
   "outputs": [
    {
     "data": {
      "text/plain": [
       "encounter_type\n",
       "part 1 violent crime           2557\n",
       "other non-violent offense      1524\n",
       "traffic stop                    933\n",
       "mental health                   835\n",
       "domestic disturbance            829\n",
       "person with a weapon            724\n",
       "none                            647\n",
       "other crimes against people     462\n",
       "mental heatlh                     3\n",
       "other non-violenr offense         1\n",
       "part1 violent crime               1\n",
       "part 1 violent crime              1\n",
       "Name: count, dtype: int64"
      ]
     },
     "execution_count": 81,
     "metadata": {},
     "output_type": "execute_result"
    }
   ],
   "source": [
    "df['encounter_type'].value_counts()"
   ]
  },
  {
   "cell_type": "markdown",
   "id": "17b7f8e7",
   "metadata": {
    "papermill": {
     "duration": 0.05246,
     "end_time": "2024-05-30T18:17:50.437607",
     "exception": false,
     "start_time": "2024-05-30T18:17:50.385147",
     "status": "completed"
    },
    "tags": []
   },
   "source": [
    "## Seems like a majority of the killings occured because a serious crime was taking place\n",
    "\n",
    "\n",
    "## According to the FBI's Uniform Crime Report (UCR), violent crimes are offenses that involve force or threat of force. The four violent crimes in the UCR Program are:\n",
    "## Murder: The unlawful killing of one person by another\n",
    "## Nonnegligent manslaughter: A violent crime\n",
    "## Forcible rape: The carnal knowledge of a female forcibly and against her will\n",
    "## Robbery: The unlawful taking or attempted taking of property that is in the possession of another, by force or the threat of force \n",
    "## Other Part 1 crimes include: aggravated assault, burglary, larceny, motor vehicle theft, arson, and human trafficking."
   ]
  },
  {
   "cell_type": "code",
   "execution_count": 82,
   "id": "b881fc6c",
   "metadata": {
    "execution": {
     "iopub.execute_input": "2024-05-30T18:17:50.543068Z",
     "iopub.status.busy": "2024-05-30T18:17:50.541770Z",
     "iopub.status.idle": "2024-05-30T18:17:50.569562Z",
     "shell.execute_reply": "2024-05-30T18:17:50.568236Z"
    },
    "papermill": {
     "duration": 0.082866,
     "end_time": "2024-05-30T18:17:50.572256",
     "exception": false,
     "start_time": "2024-05-30T18:17:50.489390",
     "status": "completed"
    },
    "tags": []
   },
   "outputs": [],
   "source": [
    "#what about the mental health checks? Why are mental health checks such a large portion of the data?\n",
    "MENTAL = df.query('encounter_type == \"mental health\"')"
   ]
  },
  {
   "cell_type": "code",
   "execution_count": 83,
   "id": "2b632081",
   "metadata": {
    "execution": {
     "iopub.execute_input": "2024-05-30T18:17:50.675857Z",
     "iopub.status.busy": "2024-05-30T18:17:50.675430Z",
     "iopub.status.idle": "2024-05-30T18:17:50.684830Z",
     "shell.execute_reply": "2024-05-30T18:17:50.683682Z"
    },
    "papermill": {
     "duration": 0.065314,
     "end_time": "2024-05-30T18:17:50.687593",
     "exception": false,
     "start_time": "2024-05-30T18:17:50.622279",
     "status": "completed"
    },
    "tags": []
   },
   "outputs": [
    {
     "data": {
      "text/plain": [
       "victims_race\n",
       "White                       461\n",
       "Black                       134\n",
       "Hispanic                    120\n",
       "Unknown race                 85\n",
       "Asian                        20\n",
       "Native American              11\n",
       "Pacific Islander              2\n",
       "Native American;Hispanic      1\n",
       "Black;Hispanic                1\n",
       "Name: count, dtype: int64"
      ]
     },
     "execution_count": 83,
     "metadata": {},
     "output_type": "execute_result"
    }
   ],
   "source": [
    "MENTAL['victims_race'].value_counts()"
   ]
  },
  {
   "cell_type": "code",
   "execution_count": 84,
   "id": "36132991",
   "metadata": {
    "execution": {
     "iopub.execute_input": "2024-05-30T18:17:50.791402Z",
     "iopub.status.busy": "2024-05-30T18:17:50.790916Z",
     "iopub.status.idle": "2024-05-30T18:17:50.801558Z",
     "shell.execute_reply": "2024-05-30T18:17:50.800201Z"
    },
    "papermill": {
     "duration": 0.064949,
     "end_time": "2024-05-30T18:17:50.804201",
     "exception": false,
     "start_time": "2024-05-30T18:17:50.739252",
     "status": "completed"
    },
    "tags": []
   },
   "outputs": [
    {
     "data": {
      "text/plain": [
       "victims_race\n",
       "White                       0.552096\n",
       "Black                       0.160479\n",
       "Hispanic                    0.143713\n",
       "Unknown race                0.101796\n",
       "Asian                       0.023952\n",
       "Native American             0.013174\n",
       "Pacific Islander            0.002395\n",
       "Native American;Hispanic    0.001198\n",
       "Black;Hispanic              0.001198\n",
       "Name: proportion, dtype: float64"
      ]
     },
     "execution_count": 84,
     "metadata": {},
     "output_type": "execute_result"
    }
   ],
   "source": [
    "MENTAL['victims_race'].value_counts(normalize = True)"
   ]
  },
  {
   "cell_type": "code",
   "execution_count": 85,
   "id": "653a2511",
   "metadata": {
    "execution": {
     "iopub.execute_input": "2024-05-30T18:17:50.910538Z",
     "iopub.status.busy": "2024-05-30T18:17:50.910092Z",
     "iopub.status.idle": "2024-05-30T18:17:50.920459Z",
     "shell.execute_reply": "2024-05-30T18:17:50.919001Z"
    },
    "papermill": {
     "duration": 0.068395,
     "end_time": "2024-05-30T18:17:50.923076",
     "exception": false,
     "start_time": "2024-05-30T18:17:50.854681",
     "status": "completed"
    },
    "tags": []
   },
   "outputs": [
    {
     "data": {
      "text/plain": [
       "weapon\n",
       "gun             380\n",
       "knife           180\n",
       "no object       112\n",
       "toy weapon       33\n",
       "undetermined     20\n",
       "Name: count, dtype: int64"
      ]
     },
     "execution_count": 85,
     "metadata": {},
     "output_type": "execute_result"
    }
   ],
   "source": [
    "MENTAL['weapon'].value_counts().head(5)"
   ]
  },
  {
   "cell_type": "markdown",
   "id": "4dc23c23",
   "metadata": {
    "papermill": {
     "duration": 0.050494,
     "end_time": "2024-05-30T18:17:51.024845",
     "exception": false,
     "start_time": "2024-05-30T18:17:50.974351",
     "status": "completed"
    },
    "tags": []
   },
   "source": [
    "## -----------------------------------------------------------------\n",
    "\n",
    "## -----------------------------------------------------------------"
   ]
  },
  {
   "cell_type": "code",
   "execution_count": 86,
   "id": "b05872ee",
   "metadata": {
    "execution": {
     "iopub.execute_input": "2024-05-30T18:17:51.128380Z",
     "iopub.status.busy": "2024-05-30T18:17:51.127861Z",
     "iopub.status.idle": "2024-05-30T18:17:51.139563Z",
     "shell.execute_reply": "2024-05-30T18:17:51.138400Z"
    },
    "papermill": {
     "duration": 0.065874,
     "end_time": "2024-05-30T18:17:51.142018",
     "exception": false,
     "start_time": "2024-05-30T18:17:51.076144",
     "status": "completed"
    },
    "tags": []
   },
   "outputs": [
    {
     "data": {
      "text/plain": [
       "cause_of_death\n",
       "Gunshot                      11866\n",
       "Taser                          342\n",
       "Gunshot, Taser                 302\n",
       "Vehicle                         88\n",
       "Physical Restraint              64\n",
       "Beaten                          38\n",
       "Taser, Gunshot                  15\n",
       "Taser, Physical Restraint       10\n",
       "Physical restraint               9\n",
       "Asphyxiated                      9\n",
       "Other                            8\n",
       "Gunshot, Vehicle                 7\n",
       "Gunshot, Police Dog              5\n",
       "Pepper Spray                     5\n",
       "Gunshot, Pepper Spray            4\n",
       "Name: count, dtype: int64"
      ]
     },
     "execution_count": 86,
     "metadata": {},
     "output_type": "execute_result"
    }
   ],
   "source": [
    "#how are these killings being done?\n",
    "#what is the prevalence of causes such as police choking people to death?\n",
    "df['cause_of_death'].value_counts().head(15)"
   ]
  },
  {
   "cell_type": "code",
   "execution_count": 87,
   "id": "b49ad239",
   "metadata": {
    "execution": {
     "iopub.execute_input": "2024-05-30T18:17:51.247083Z",
     "iopub.status.busy": "2024-05-30T18:17:51.246661Z",
     "iopub.status.idle": "2024-05-30T18:17:51.269573Z",
     "shell.execute_reply": "2024-05-30T18:17:51.268346Z"
    },
    "papermill": {
     "duration": 0.077667,
     "end_time": "2024-05-30T18:17:51.271786",
     "exception": false,
     "start_time": "2024-05-30T18:17:51.194119",
     "status": "completed"
    },
    "tags": []
   },
   "outputs": [],
   "source": [
    "df['cause_of_death'] = df['cause_of_death'].str.split(pat = \",\").str[0]"
   ]
  },
  {
   "cell_type": "code",
   "execution_count": 88,
   "id": "c1aceda6",
   "metadata": {
    "execution": {
     "iopub.execute_input": "2024-05-30T18:17:51.373766Z",
     "iopub.status.busy": "2024-05-30T18:17:51.373379Z",
     "iopub.status.idle": "2024-05-30T18:17:51.383462Z",
     "shell.execute_reply": "2024-05-30T18:17:51.382016Z"
    },
    "papermill": {
     "duration": 0.064144,
     "end_time": "2024-05-30T18:17:51.386190",
     "exception": false,
     "start_time": "2024-05-30T18:17:51.322046",
     "status": "completed"
    },
    "tags": []
   },
   "outputs": [],
   "source": [
    "df['cause_of_death'] = df['cause_of_death'].str.lower()"
   ]
  },
  {
   "cell_type": "code",
   "execution_count": 89,
   "id": "fa074faa",
   "metadata": {
    "execution": {
     "iopub.execute_input": "2024-05-30T18:17:51.488794Z",
     "iopub.status.busy": "2024-05-30T18:17:51.488390Z",
     "iopub.status.idle": "2024-05-30T18:17:51.501556Z",
     "shell.execute_reply": "2024-05-30T18:17:51.500306Z"
    },
    "papermill": {
     "duration": 0.067557,
     "end_time": "2024-05-30T18:17:51.504281",
     "exception": false,
     "start_time": "2024-05-30T18:17:51.436724",
     "status": "completed"
    },
    "tags": []
   },
   "outputs": [
    {
     "data": {
      "text/plain": [
       "cause_of_death\n",
       "gunshot               12192\n",
       "taser                   373\n",
       "vehicle                  89\n",
       "physical restraint       75\n",
       "beaten                   39\n",
       "asphyxiated               9\n",
       "other                     8\n",
       "pepper spray              6\n",
       "bean bag                  2\n",
       "gunshot                   1\n",
       "police dog                1\n",
       "taser                     1\n",
       "bomb                      1\n",
       "baton                     1\n",
       "Name: count, dtype: int64"
      ]
     },
     "execution_count": 89,
     "metadata": {},
     "output_type": "execute_result"
    }
   ],
   "source": [
    "df['cause_of_death'].value_counts().head(15)"
   ]
  },
  {
   "cell_type": "code",
   "execution_count": 90,
   "id": "a1bfec99",
   "metadata": {
    "execution": {
     "iopub.execute_input": "2024-05-30T18:17:51.608587Z",
     "iopub.status.busy": "2024-05-30T18:17:51.607917Z",
     "iopub.status.idle": "2024-05-30T18:17:51.619472Z",
     "shell.execute_reply": "2024-05-30T18:17:51.618248Z"
    },
    "papermill": {
     "duration": 0.06648,
     "end_time": "2024-05-30T18:17:51.621887",
     "exception": false,
     "start_time": "2024-05-30T18:17:51.555407",
     "status": "completed"
    },
    "tags": []
   },
   "outputs": [
    {
     "data": {
      "text/plain": [
       "0.009610876699484294"
      ]
     },
     "execution_count": 90,
     "metadata": {},
     "output_type": "execute_result"
    }
   ],
   "source": [
    "#what % of killing were due to physical restraint / asphyxiated / beaten\n",
    "physical_killings = 75+9+39 \n",
    "physical_killings / df['cause_of_death'].value_counts().sum() "
   ]
  },
  {
   "cell_type": "markdown",
   "id": "9e8f0f05",
   "metadata": {
    "papermill": {
     "duration": 0.052312,
     "end_time": "2024-05-30T18:17:51.729231",
     "exception": false,
     "start_time": "2024-05-30T18:17:51.676919",
     "status": "completed"
    },
    "tags": []
   },
   "source": [
    "## Less than 1% of the killings were due to physical restraint / asphyxiated / beaten"
   ]
  },
  {
   "cell_type": "code",
   "execution_count": 91,
   "id": "1cb07fd3",
   "metadata": {
    "execution": {
     "iopub.execute_input": "2024-05-30T18:17:51.835301Z",
     "iopub.status.busy": "2024-05-30T18:17:51.834811Z",
     "iopub.status.idle": "2024-05-30T18:17:51.881668Z",
     "shell.execute_reply": "2024-05-30T18:17:51.880302Z"
    },
    "papermill": {
     "duration": 0.104016,
     "end_time": "2024-05-30T18:17:51.884693",
     "exception": false,
     "start_time": "2024-05-30T18:17:51.780677",
     "status": "completed"
    },
    "tags": []
   },
   "outputs": [
    {
     "data": {
      "text/html": [
       "<div>\n",
       "<style scoped>\n",
       "    .dataframe tbody tr th:only-of-type {\n",
       "        vertical-align: middle;\n",
       "    }\n",
       "\n",
       "    .dataframe tbody tr th {\n",
       "        vertical-align: top;\n",
       "    }\n",
       "\n",
       "    .dataframe thead th {\n",
       "        text-align: right;\n",
       "    }\n",
       "</style>\n",
       "<table border=\"1\" class=\"dataframe\">\n",
       "  <thead>\n",
       "    <tr style=\"text-align: right;\">\n",
       "      <th></th>\n",
       "      <th>victims_name</th>\n",
       "      <th>victims_age</th>\n",
       "      <th>victims_gender</th>\n",
       "      <th>victims_race</th>\n",
       "      <th>url_of_image_of_victim</th>\n",
       "      <th>date_of_incident_monthdayyear</th>\n",
       "      <th>street_address_of_incident</th>\n",
       "      <th>city</th>\n",
       "      <th>state</th>\n",
       "      <th>zipcode</th>\n",
       "      <th>...</th>\n",
       "      <th>chief_prosecutor_political_party</th>\n",
       "      <th>chief_prosecutor_term</th>\n",
       "      <th>officer_prosecuted_by_prosecutor_in_court</th>\n",
       "      <th>special_prosecutor</th>\n",
       "      <th>independent_investigation</th>\n",
       "      <th>prosecutor_source_link</th>\n",
       "      <th>killed_by_police_201324</th>\n",
       "      <th>age_group</th>\n",
       "      <th>year</th>\n",
       "      <th>month</th>\n",
       "    </tr>\n",
       "  </thead>\n",
       "  <tbody>\n",
       "    <tr>\n",
       "      <th>11158</th>\n",
       "      <td>Eric Garner</td>\n",
       "      <td>43.0</td>\n",
       "      <td>Male</td>\n",
       "      <td>Black</td>\n",
       "      <td>http://d.ibtimes.co.uk/en/full/1392076/garners...</td>\n",
       "      <td>2014-07-17</td>\n",
       "      <td>Victory Boulevard and Bay Street</td>\n",
       "      <td>New York</td>\n",
       "      <td>NY</td>\n",
       "      <td>10301.0</td>\n",
       "      <td>...</td>\n",
       "      <td>NaN</td>\n",
       "      <td>NaN</td>\n",
       "      <td>NaN</td>\n",
       "      <td>NaN</td>\n",
       "      <td>NaN</td>\n",
       "      <td>NaN</td>\n",
       "      <td>1</td>\n",
       "      <td>42-49</td>\n",
       "      <td>2014</td>\n",
       "      <td>7</td>\n",
       "    </tr>\n",
       "  </tbody>\n",
       "</table>\n",
       "<p>1 rows × 67 columns</p>\n",
       "</div>"
      ],
      "text/plain": [
       "      victims_name  victims_age victims_gender victims_race  \\\n",
       "11158  Eric Garner         43.0           Male        Black   \n",
       "\n",
       "                                  url_of_image_of_victim  \\\n",
       "11158  http://d.ibtimes.co.uk/en/full/1392076/garners...   \n",
       "\n",
       "      date_of_incident_monthdayyear        street_address_of_incident  \\\n",
       "11158                    2014-07-17  Victory Boulevard and Bay Street   \n",
       "\n",
       "           city state  zipcode  ... chief_prosecutor_political_party  \\\n",
       "11158  New York    NY  10301.0  ...                              NaN   \n",
       "\n",
       "      chief_prosecutor_term officer_prosecuted_by_prosecutor_in_court  \\\n",
       "11158                   NaN                                       NaN   \n",
       "\n",
       "      special_prosecutor independent_investigation prosecutor_source_link  \\\n",
       "11158                NaN                       NaN                    NaN   \n",
       "\n",
       "      killed_by_police_201324 age_group  year month  \n",
       "11158                       1     42-49  2014     7  \n",
       "\n",
       "[1 rows x 67 columns]"
      ]
     },
     "execution_count": 91,
     "metadata": {},
     "output_type": "execute_result"
    }
   ],
   "source": [
    "df.query('cause_of_death == \"physical restraint\" and victims_name == \"Eric Garner\"')"
   ]
  },
  {
   "cell_type": "code",
   "execution_count": 92,
   "id": "780f8474",
   "metadata": {
    "execution": {
     "iopub.execute_input": "2024-05-30T18:17:51.991628Z",
     "iopub.status.busy": "2024-05-30T18:17:51.991234Z",
     "iopub.status.idle": "2024-05-30T18:17:52.017685Z",
     "shell.execute_reply": "2024-05-30T18:17:52.016122Z"
    },
    "papermill": {
     "duration": 0.082682,
     "end_time": "2024-05-30T18:17:52.020648",
     "exception": false,
     "start_time": "2024-05-30T18:17:51.937966",
     "status": "completed"
    },
    "tags": []
   },
   "outputs": [],
   "source": [
    "physical_killings = df.query('cause_of_death == \"physical restraint\" or cause_of_death == \"beaten\" or cause_of_death == \"asphyxiated\"')"
   ]
  },
  {
   "cell_type": "code",
   "execution_count": 93,
   "id": "532d421c",
   "metadata": {
    "execution": {
     "iopub.execute_input": "2024-05-30T18:17:52.127143Z",
     "iopub.status.busy": "2024-05-30T18:17:52.126344Z",
     "iopub.status.idle": "2024-05-30T18:17:52.137201Z",
     "shell.execute_reply": "2024-05-30T18:17:52.135849Z"
    },
    "papermill": {
     "duration": 0.067491,
     "end_time": "2024-05-30T18:17:52.140065",
     "exception": false,
     "start_time": "2024-05-30T18:17:52.072574",
     "status": "completed"
    },
    "tags": []
   },
   "outputs": [
    {
     "data": {
      "text/plain": [
       "victims_race\n",
       "White               0.333333\n",
       "Black               0.325203\n",
       "Hispanic            0.227642\n",
       "Unknown race        0.056911\n",
       "Asian               0.032520\n",
       "Black;Hispanic      0.008130\n",
       "Pacific Islander    0.008130\n",
       "Native American     0.008130\n",
       "Name: proportion, dtype: float64"
      ]
     },
     "execution_count": 93,
     "metadata": {},
     "output_type": "execute_result"
    }
   ],
   "source": [
    "physical_killings['victims_race'].value_counts(normalize = True)"
   ]
  },
  {
   "cell_type": "markdown",
   "id": "045177c1",
   "metadata": {
    "papermill": {
     "duration": 0.051341,
     "end_time": "2024-05-30T18:17:52.242462",
     "exception": false,
     "start_time": "2024-05-30T18:17:52.191121",
     "status": "completed"
    },
    "tags": []
   },
   "source": [
    "## Blacks and whites were equally likely to be killed by physical means"
   ]
  },
  {
   "cell_type": "code",
   "execution_count": 94,
   "id": "5d48d53a",
   "metadata": {
    "execution": {
     "iopub.execute_input": "2024-05-30T18:17:52.348674Z",
     "iopub.status.busy": "2024-05-30T18:17:52.347544Z",
     "iopub.status.idle": "2024-05-30T18:17:52.355563Z",
     "shell.execute_reply": "2024-05-30T18:17:52.354395Z"
    },
    "papermill": {
     "duration": 0.062975,
     "end_time": "2024-05-30T18:17:52.357834",
     "exception": false,
     "start_time": "2024-05-30T18:17:52.294859",
     "status": "completed"
    },
    "tags": []
   },
   "outputs": [
    {
     "data": {
      "text/plain": [
       "38.747899159663866"
      ]
     },
     "execution_count": 94,
     "metadata": {},
     "output_type": "execute_result"
    }
   ],
   "source": [
    "physical_killings['victims_age'].mean()"
   ]
  },
  {
   "cell_type": "code",
   "execution_count": 95,
   "id": "678cf9f6",
   "metadata": {
    "execution": {
     "iopub.execute_input": "2024-05-30T18:17:52.465220Z",
     "iopub.status.busy": "2024-05-30T18:17:52.464480Z",
     "iopub.status.idle": "2024-05-30T18:17:52.473143Z",
     "shell.execute_reply": "2024-05-30T18:17:52.472257Z"
    },
    "papermill": {
     "duration": 0.065037,
     "end_time": "2024-05-30T18:17:52.475473",
     "exception": false,
     "start_time": "2024-05-30T18:17:52.410436",
     "status": "completed"
    },
    "tags": []
   },
   "outputs": [
    {
     "data": {
      "text/plain": [
       "weapon\n",
       "no object       0.886179\n",
       "knife           0.032520\n",
       "undetermined    0.032520\n",
       "gun             0.016260\n",
       "blunt object    0.008130\n",
       "sticks          0.008130\n",
       "No object       0.008130\n",
       "machete         0.008130\n",
       "Name: proportion, dtype: float64"
      ]
     },
     "execution_count": 95,
     "metadata": {},
     "output_type": "execute_result"
    }
   ],
   "source": [
    "physical_killings['weapon'].value_counts(normalize = True)"
   ]
  },
  {
   "cell_type": "markdown",
   "id": "9680b30e",
   "metadata": {
    "papermill": {
     "duration": 0.05164,
     "end_time": "2024-05-30T18:17:52.579101",
     "exception": false,
     "start_time": "2024-05-30T18:17:52.527461",
     "status": "completed"
    },
    "tags": []
   },
   "source": [
    "## ~88% of the time those killed physically did not have a weapon "
   ]
  },
  {
   "cell_type": "markdown",
   "id": "c56f0ad4",
   "metadata": {
    "papermill": {
     "duration": 0.052623,
     "end_time": "2024-05-30T18:17:52.684472",
     "exception": false,
     "start_time": "2024-05-30T18:17:52.631849",
     "status": "completed"
    },
    "tags": []
   },
   "source": [
    "## -----------------------------------------------------------------\n",
    "\n",
    "## -----------------------------------------------------------------"
   ]
  },
  {
   "cell_type": "markdown",
   "id": "bc4f6292",
   "metadata": {
    "papermill": {
     "duration": 0.051583,
     "end_time": "2024-05-30T18:17:52.787712",
     "exception": false,
     "start_time": "2024-05-30T18:17:52.736129",
     "status": "completed"
    },
    "tags": []
   },
   "source": [
    "## So what have we learned?\n",
    "\n",
    "## Conclusions:\n"
   ]
  },
  {
   "cell_type": "markdown",
   "id": "a97d248f",
   "metadata": {
    "papermill": {
     "duration": 0.051261,
     "end_time": "2024-05-30T18:17:52.890363",
     "exception": false,
     "start_time": "2024-05-30T18:17:52.839102",
     "status": "completed"
    },
    "tags": []
   },
   "source": [
    "### Police have killed ~13000 people since 2013 \n",
    "### Men are killed ~19 times more often than women\n",
    "### The average age of the victims is ~37, with 26-33 being the age group at highest risk\n",
    "### Within the deaths, whites make up ~44%, blacks make up ~25%, hispanics make up ~18%, and asians make up ~2%\n",
    "### Police killings are increasing by ~17 each year\n",
    "\n",
    "### Where this information is available:\n",
    "### In a majority of the cases, police were called to the scene for some reason \n",
    "### In ~ 74% of the cases, the person killed was allegedy armed and in 13% they were unarmed \n",
    "### In ~ 65% of cases the person killed was not fleeing and the remaining were \n",
    "### Among those killed while fleeing, blacks represented a disproportionate amount in accordance with their representation in the overall data\n",
    "### A large majority of the people fleeing were listed as having a gun or knife\n",
    "### People commiting violent crimes represented a majority of the records\n",
    "### Among those killed during mental health checks, whites represented a disproportionate amount in accordance with their representation in the overall data\n",
    "### Less than 1% of the killings were due to being physical restrainted / asphyxiated / beaten "
   ]
  },
  {
   "cell_type": "markdown",
   "id": "22d54a31",
   "metadata": {
    "papermill": {
     "duration": 0.050513,
     "end_time": "2024-05-30T18:17:52.994585",
     "exception": false,
     "start_time": "2024-05-30T18:17:52.944072",
     "status": "completed"
    },
    "tags": []
   },
   "source": [
    "## -----------------------------------------------------------------\n",
    "\n",
    "## -----------------------------------------------------------------"
   ]
  },
  {
   "cell_type": "markdown",
   "id": "3fda5535",
   "metadata": {
    "papermill": {
     "duration": 0.051037,
     "end_time": "2024-05-30T18:17:53.096808",
     "exception": false,
     "start_time": "2024-05-30T18:17:53.045771",
     "status": "completed"
    },
    "tags": []
   },
   "source": [
    "## And this is the end. Thanks for checking out my analysis"
   ]
  }
 ],
 "metadata": {
  "kaggle": {
   "accelerator": "none",
   "dataSources": [
    {
     "datasetId": 5008205,
     "sourceId": 8414117,
     "sourceType": "datasetVersion"
    }
   ],
   "dockerImageVersionId": 30698,
   "isGpuEnabled": false,
   "isInternetEnabled": true,
   "language": "python",
   "sourceType": "notebook"
  },
  "kernelspec": {
   "display_name": "Python 3",
   "language": "python",
   "name": "python3"
  },
  "language_info": {
   "codemirror_mode": {
    "name": "ipython",
    "version": 3
   },
   "file_extension": ".py",
   "mimetype": "text/x-python",
   "name": "python",
   "nbconvert_exporter": "python",
   "pygments_lexer": "ipython3",
   "version": "3.10.13"
  },
  "papermill": {
   "default_parameters": {},
   "duration": 43.185918,
   "end_time": "2024-05-30T18:17:53.972649",
   "environment_variables": {},
   "exception": null,
   "input_path": "__notebook__.ipynb",
   "output_path": "__notebook__.ipynb",
   "parameters": {},
   "start_time": "2024-05-30T18:17:10.786731",
   "version": "2.5.0"
  }
 },
 "nbformat": 4,
 "nbformat_minor": 5
}
